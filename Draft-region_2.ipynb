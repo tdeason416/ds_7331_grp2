{
 "cells": [
  {
   "cell_type": "code",
   "execution_count": 1,
   "metadata": {
    "collapsed": true
   },
   "outputs": [],
   "source": [
    "import pandas as pd\n",
    "import numpy as np\n",
    "import re\n",
    "import matplotlib.pyplot as plt\n",
    "from nltk.stem import *\n",
    "from sklearn.feature_extraction.text import TfidfVectorizer\n",
    "from datetime import datetime, timedelta, date\n",
    "%matplotlib inline\n",
    "plt.style.use('ggplot')\n",
    "\n",
    "import nltk\n",
    "import string\n",
    "\n",
    "from nltk.corpus import stopwords\n",
    "pstemmer = nltk.PorterStemmer()"
   ]
  },
  {
   "cell_type": "code",
   "execution_count": 2,
   "metadata": {
    "collapsed": true
   },
   "outputs": [],
   "source": [
    "y_col = 'region_2'"
   ]
  },
  {
   "cell_type": "code",
   "execution_count": 3,
   "metadata": {
    "collapsed": true
   },
   "outputs": [],
   "source": [
    "df = pd.read_csv('data/winemag-data-130k-v2.csv')"
   ]
  },
  {
   "cell_type": "code",
   "execution_count": 4,
   "metadata": {},
   "outputs": [
    {
     "data": {
      "text/html": [
       "<div>\n",
       "<style>\n",
       "    .dataframe thead tr:only-child th {\n",
       "        text-align: right;\n",
       "    }\n",
       "\n",
       "    .dataframe thead th {\n",
       "        text-align: left;\n",
       "    }\n",
       "\n",
       "    .dataframe tbody tr th {\n",
       "        vertical-align: top;\n",
       "    }\n",
       "</style>\n",
       "<table border=\"1\" class=\"dataframe\">\n",
       "  <thead>\n",
       "    <tr style=\"text-align: right;\">\n",
       "      <th></th>\n",
       "      <th>Unnamed: 0</th>\n",
       "      <th>country</th>\n",
       "      <th>description</th>\n",
       "      <th>designation</th>\n",
       "      <th>points</th>\n",
       "      <th>price</th>\n",
       "      <th>province</th>\n",
       "      <th>region_1</th>\n",
       "      <th>region_2</th>\n",
       "      <th>taster_name</th>\n",
       "      <th>taster_twitter_handle</th>\n",
       "      <th>title</th>\n",
       "      <th>variety</th>\n",
       "      <th>winery</th>\n",
       "    </tr>\n",
       "  </thead>\n",
       "  <tbody>\n",
       "    <tr>\n",
       "      <th>63663</th>\n",
       "      <td>63663</td>\n",
       "      <td>France</td>\n",
       "      <td>Produced from 10- to 20-year-old vines, this w...</td>\n",
       "      <td>Sur le Fort</td>\n",
       "      <td>88</td>\n",
       "      <td>30.0</td>\n",
       "      <td>Loire Valley</td>\n",
       "      <td>Sancerre</td>\n",
       "      <td>NaN</td>\n",
       "      <td>Roger Voss</td>\n",
       "      <td>@vossroger</td>\n",
       "      <td>Domaine Fouassier 2015 Sur le Fort  (Sancerre)</td>\n",
       "      <td>Sauvignon Blanc</td>\n",
       "      <td>Domaine Fouassier</td>\n",
       "    </tr>\n",
       "    <tr>\n",
       "      <th>23737</th>\n",
       "      <td>23737</td>\n",
       "      <td>Portugal</td>\n",
       "      <td>This blend of Encruzado and Malvasia Fina is b...</td>\n",
       "      <td>Jardim da Estrela Branco</td>\n",
       "      <td>87</td>\n",
       "      <td>10.0</td>\n",
       "      <td>Dão</td>\n",
       "      <td>NaN</td>\n",
       "      <td>NaN</td>\n",
       "      <td>Roger Voss</td>\n",
       "      <td>@vossroger</td>\n",
       "      <td>Magnum Vinhos 2014 Jardim da Estrela Branco Wh...</td>\n",
       "      <td>Portuguese White</td>\n",
       "      <td>Magnum Vinhos</td>\n",
       "    </tr>\n",
       "    <tr>\n",
       "      <th>126232</th>\n",
       "      <td>126232</td>\n",
       "      <td>France</td>\n",
       "      <td>The wine has a fine smoky character lying over...</td>\n",
       "      <td>NaN</td>\n",
       "      <td>88</td>\n",
       "      <td>20.0</td>\n",
       "      <td>Bordeaux</td>\n",
       "      <td>Bordeaux Supérieur</td>\n",
       "      <td>NaN</td>\n",
       "      <td>Roger Voss</td>\n",
       "      <td>@vossroger</td>\n",
       "      <td>Château de Macard 2015  Bordeaux Supérieur</td>\n",
       "      <td>Bordeaux-style Red Blend</td>\n",
       "      <td>Château de Macard</td>\n",
       "    </tr>\n",
       "    <tr>\n",
       "      <th>124861</th>\n",
       "      <td>124861</td>\n",
       "      <td>US</td>\n",
       "      <td>This bone-dry high-acid wine puts flavors of g...</td>\n",
       "      <td>Pinot Noir</td>\n",
       "      <td>88</td>\n",
       "      <td>25.0</td>\n",
       "      <td>Oregon</td>\n",
       "      <td>Dundee Hills</td>\n",
       "      <td>Willamette Valley</td>\n",
       "      <td>Paul Gregutt</td>\n",
       "      <td>@paulgwine</td>\n",
       "      <td>Stoller 2016 Pinot Noir Rosé (Dundee Hills)</td>\n",
       "      <td>Rosé</td>\n",
       "      <td>Stoller</td>\n",
       "    </tr>\n",
       "    <tr>\n",
       "      <th>105562</th>\n",
       "      <td>105562</td>\n",
       "      <td>France</td>\n",
       "      <td>91–93. Barrel sample. This is a densely tannic...</td>\n",
       "      <td>Barrel Sample</td>\n",
       "      <td>92</td>\n",
       "      <td>NaN</td>\n",
       "      <td>Bordeaux</td>\n",
       "      <td>Haut-Médoc</td>\n",
       "      <td>NaN</td>\n",
       "      <td>Roger Voss</td>\n",
       "      <td>@vossroger</td>\n",
       "      <td>Château Beaumont 2012 Barrel Sample  (Haut-Médoc)</td>\n",
       "      <td>Bordeaux-style Red Blend</td>\n",
       "      <td>Château Beaumont</td>\n",
       "    </tr>\n",
       "  </tbody>\n",
       "</table>\n",
       "</div>"
      ],
      "text/plain": [
       "        Unnamed: 0   country  \\\n",
       "63663        63663    France   \n",
       "23737        23737  Portugal   \n",
       "126232      126232    France   \n",
       "124861      124861        US   \n",
       "105562      105562    France   \n",
       "\n",
       "                                              description  \\\n",
       "63663   Produced from 10- to 20-year-old vines, this w...   \n",
       "23737   This blend of Encruzado and Malvasia Fina is b...   \n",
       "126232  The wine has a fine smoky character lying over...   \n",
       "124861  This bone-dry high-acid wine puts flavors of g...   \n",
       "105562  91–93. Barrel sample. This is a densely tannic...   \n",
       "\n",
       "                     designation  points  price      province  \\\n",
       "63663                Sur le Fort      88   30.0  Loire Valley   \n",
       "23737   Jardim da Estrela Branco      87   10.0           Dão   \n",
       "126232                       NaN      88   20.0      Bordeaux   \n",
       "124861                Pinot Noir      88   25.0        Oregon   \n",
       "105562             Barrel Sample      92    NaN      Bordeaux   \n",
       "\n",
       "                  region_1           region_2   taster_name  \\\n",
       "63663             Sancerre                NaN    Roger Voss   \n",
       "23737                  NaN                NaN    Roger Voss   \n",
       "126232  Bordeaux Supérieur                NaN    Roger Voss   \n",
       "124861        Dundee Hills  Willamette Valley  Paul Gregutt   \n",
       "105562          Haut-Médoc                NaN    Roger Voss   \n",
       "\n",
       "       taster_twitter_handle  \\\n",
       "63663             @vossroger   \n",
       "23737             @vossroger   \n",
       "126232            @vossroger   \n",
       "124861           @paulgwine    \n",
       "105562            @vossroger   \n",
       "\n",
       "                                                    title  \\\n",
       "63663      Domaine Fouassier 2015 Sur le Fort  (Sancerre)   \n",
       "23737   Magnum Vinhos 2014 Jardim da Estrela Branco Wh...   \n",
       "126232         Château de Macard 2015  Bordeaux Supérieur   \n",
       "124861        Stoller 2016 Pinot Noir Rosé (Dundee Hills)   \n",
       "105562  Château Beaumont 2012 Barrel Sample  (Haut-Médoc)   \n",
       "\n",
       "                         variety             winery  \n",
       "63663            Sauvignon Blanc  Domaine Fouassier  \n",
       "23737           Portuguese White      Magnum Vinhos  \n",
       "126232  Bordeaux-style Red Blend  Château de Macard  \n",
       "124861                      Rosé            Stoller  \n",
       "105562  Bordeaux-style Red Blend   Château Beaumont  "
      ]
     },
     "execution_count": 4,
     "metadata": {},
     "output_type": "execute_result"
    }
   ],
   "source": [
    "df.sample(5)"
   ]
  },
  {
   "cell_type": "code",
   "execution_count": 5,
   "metadata": {},
   "outputs": [
    {
     "data": {
      "text/plain": [
       "array([ 'Fortified dessert wines made from Malbec follow a tradition going back to the Middle Ages. This has a tawny-Port like quality, but is more structured and concentrated with a palate full of raisins and black-fruit flavors.',\n",
       "       'Rich and structured, yet full and concentrated, this wine has both dark tannins and ripe plum and berry fruits. The acidity streaks through the wine, lending freshness and good aging potential. Drink from 2017.',\n",
       "       \"Charred, tarry, smoky aromas are gritty and outpace this boutique wine's fruit character. Hard and tannic, with citric acidity, this is steered by flavors of charred oak, licorice, chocolate and barrel resin. Toasty, spicy raspberry and blackcurrant flavors finish it up. Drink through 2026.\",\n",
       "       'This shows an evident layer of oak in the form of buttered toast and vanilla notes, but the underlying wine is strong in pineapple and golden mango flavors. Fine coastal acidity and a hint of mineral provide structural balance.',\n",
       "       'Crisp and young, this wine, from 50-year-old vines, is tangy and strongly mineral in texture. It is full of fresh fruit that reflects the of organic and biodynamic farming. The green fruits will fill out as it ages. Drink from 2017.',\n",
       "       'Lavish aromas of blackberry pie cooked in a vanilla crust with a crystallized brown-sugar topping show on this rich bottling from a warm vineyard near where Carmel Valley hits the Arroyo Seco wash. The medium-bodied palate offers thyme, sagebrush and a hint of cardamom, with fig, black plum and bittersweet chocolate at the core.',\n",
       "       'Tart greengage plums join grapefruit and lemon in this fresh, light-bodied offering. Traces of yeast add some midpalate texture to a very refreshing, easy-drinking wine.',\n",
       "       \"A Brunello on the bold and ripe side, with smoked bacon, blackberry, sweet spice, rum cake and black licorice. It shows impressive staying power. It's tannic, firm and ready for a long aging future ahead.\",\n",
       "       \"This vineyard from the Santa Margarita Ranch at the southern end of the appellation produces a wine with blackberry, mint, slate and barrel smoke on the nose. The flavors aren't quite as dynamic, but still present cocoa, berry, beet juice and strongly mouth-coating tannins.\",\n",
       "       'This lovely brut offers a fragrance of white peach, almond and acacia flower. The palate delivers apple and citrus flavors, along with a note of bread crust. The wine is fresh and creamy with a dry finish of roasted walnut.',\n",
       "       \"Here is a good all-purpose and widely available Oregon Pinot Gris. It's got classic pear and apple fruit flavors, well balanced against tangy acidity. There's no oak here, but the whole cluster press brings some spicy phenolics.\",\n",
       "       \"A lush, rich Cab from Temecula Valley, which smells nicely of cassis and cranberry with a splash of rose water. Mellow and balanced, the wine's tannins are well-integrated here with an appropriate oak finish.\",\n",
       "       \"A big, juicy, fruit-bomb of a rosé, this Knight's Gambit from Erath mixes flavors of rosewater, watermelon, strawberries and cocoa in a big, broad, forward, palate-pleasing wine. The pretty pink color is from skin contact with the Pinot Gris—no red wine was added.\",\n",
       "       'This expertly structured wine will last for ages. It begins with dense blackberry jam, caramel, vanilla, fresh licorice and chocolate-ganache aromas. There is a density of flavors on the sip, but not an overwhelming weight, with black cherry, chocolate syrup and asphalt tones hung on chalky tannins that are a little firm right now. Drink 2018–2033.',\n",
       "       'Forced oak and grassy core aromas make for a challenging, slightly green and resiny bouquet. This feels thick and heavy, with oaky, stewy flavors of ripe raspberry and black plum.',\n",
       "       'Tight tannins support a blend of 49% Cabernet Sauvignon with 21% Petit Verdot, 11% Merlot and 9% Cabernet Franc. Black fruit, tobacco and leather give it a robust profile, finishing full bodied and ripe.',\n",
       "       \"Classic Petite Sirahin its own brawny, briary way. It's full-bodied and drily tannic, with strong flavors of wild berries, tobacco, Canadian bacon, crushed pepper and toast. The depth of these flavors is considerable, as is the long, spicy finish. Should glide effortlessly through the next eight years.\",\n",
       "       'Matured in large wooden vats, this is a wine that is so ripe and rich. With great fruit allied to an opulent texture, it is both spicy and full of tropical fruit flavors. At the moment, it is just bursting with fruit and will need time to calm down, so wait to drink until 2019.',\n",
       "       \"At first sharp and showing the influence of barrel aging in roughly 20% new French oak, this opens up and smoothes out into a supple, buttery wine. It's rich with flavors of pineapple, baked apple, sweet spices and a hint of mint. Polished and sophisticated, it generously rewards your attention with plenty of delicious details.\",\n",
       "       'Fermented in 80% stainless steel and 20% barrel, this at first shows a touch of barrel reduction on the nose that dissipates into richly layered stone fruit and fresh lime. Lingering minerality provides freshness and perspective.'], dtype=object)"
      ]
     },
     "execution_count": 5,
     "metadata": {},
     "output_type": "execute_result"
    }
   ],
   "source": [
    "df.description.sample(20).values"
   ]
  },
  {
   "cell_type": "code",
   "execution_count": 6,
   "metadata": {},
   "outputs": [
    {
     "name": "stdout",
     "output_type": "stream",
     "text": [
      "<class 'pandas.core.frame.DataFrame'>\n",
      "RangeIndex: 129971 entries, 0 to 129970\n",
      "Data columns (total 14 columns):\n",
      "Unnamed: 0               129971 non-null int64\n",
      "country                  129908 non-null object\n",
      "description              129971 non-null object\n",
      "designation              92506 non-null object\n",
      "points                   129971 non-null int64\n",
      "price                    120975 non-null float64\n",
      "province                 129908 non-null object\n",
      "region_1                 108724 non-null object\n",
      "region_2                 50511 non-null object\n",
      "taster_name              103727 non-null object\n",
      "taster_twitter_handle    98758 non-null object\n",
      "title                    129971 non-null object\n",
      "variety                  129970 non-null object\n",
      "winery                   129971 non-null object\n",
      "dtypes: float64(1), int64(2), object(11)\n",
      "memory usage: 13.9+ MB\n"
     ]
    }
   ],
   "source": [
    "df.info()"
   ]
  },
  {
   "cell_type": "code",
   "execution_count": 7,
   "metadata": {},
   "outputs": [
    {
     "name": "stdout",
     "output_type": "stream",
     "text": [
      "Unnamed: 0 129971\n",
      "country 44\n",
      "description 119955\n",
      "designation 37980\n",
      "points 21\n",
      "price 391\n",
      "province 426\n",
      "region_1 1230\n",
      "region_2 18\n",
      "taster_name 20\n",
      "taster_twitter_handle 16\n",
      "title 118840\n",
      "variety 708\n",
      "winery 16757\n"
     ]
    }
   ],
   "source": [
    "for col in df.columns:\n",
    "    print(col, df[col].unique().size)"
   ]
  },
  {
   "cell_type": "code",
   "execution_count": 8,
   "metadata": {},
   "outputs": [
    {
     "data": {
      "text/plain": [
       "none                 0.611367\n",
       "Central Coast        0.085134\n",
       "Sonoma               0.069462\n",
       "Columbia Valley      0.062345\n",
       "Napa                 0.052427\n",
       "Willamette Valley    0.026337\n",
       "California Other     0.020489\n",
       "Finger Lakes         0.013672\n",
       "Sierra Foothills     0.011249\n",
       "Napa-Sonoma          0.008994\n",
       "Central Valley       0.008171\n",
       "Southern Oregon      0.007055\n",
       "Oregon Other         0.005594\n",
       "Long Island          0.005232\n",
       "North Coast          0.004493\n",
       "Washington Other     0.004109\n",
       "South Coast          0.002093\n",
       "New York Other       0.001777\n",
       "Name: region_2, dtype: float64"
      ]
     },
     "execution_count": 8,
     "metadata": {},
     "output_type": "execute_result"
    }
   ],
   "source": [
    "df[y_col].fillna('none').value_counts(1)"
   ]
  },
  {
   "cell_type": "code",
   "execution_count": 9,
   "metadata": {
    "collapsed": true
   },
   "outputs": [],
   "source": [
    "df_nona = df[df[y_col].fillna('N') != 'N']"
   ]
  },
  {
   "cell_type": "code",
   "execution_count": 10,
   "metadata": {
    "collapsed": true
   },
   "outputs": [],
   "source": [
    "label_map = {val: idx for idx, val in enumerate(df[y_col].unique())}"
   ]
  },
  {
   "cell_type": "code",
   "execution_count": 11,
   "metadata": {
    "collapsed": true
   },
   "outputs": [],
   "source": [
    "y = df_nona[y_col].replace(label_map).values"
   ]
  },
  {
   "cell_type": "code",
   "execution_count": 12,
   "metadata": {
    "collapsed": true
   },
   "outputs": [],
   "source": [
    "reviews = df_nona.description"
   ]
  },
  {
   "cell_type": "code",
   "execution_count": 13,
   "metadata": {
    "collapsed": true
   },
   "outputs": [],
   "source": [
    "swords = set(stopwords.words('english'))"
   ]
  },
  {
   "cell_type": "code",
   "execution_count": 14,
   "metadata": {
    "collapsed": true
   },
   "outputs": [],
   "source": [
    "ps = PorterStemmer()"
   ]
  },
  {
   "cell_type": "code",
   "execution_count": 15,
   "metadata": {
    "collapsed": true
   },
   "outputs": [],
   "source": [
    "word_vecs = reviews\\\n",
    "    .apply(lambda x: [re.sub(\"[\\W]\", '', i).lower().strip() for i in x.split()])\\\n",
    "    .apply(lambda x: [ps.stem(i) for i in x if i not in swords and len(i) > 3])"
   ]
  },
  {
   "cell_type": "code",
   "execution_count": 16,
   "metadata": {},
   "outputs": [
    {
     "data": {
      "text/plain": [
       "34498     [much, go, except, sweet, toasti, oaklik, arom...\n",
       "91925     [dark, fragrant, interest, syrah, open, quickl...\n",
       "64222     [variet, come, hedg, estat, vineyard, allnew, ...\n",
       "28017     [dri, plum, dri, strawberri, dri, raspberri, m...\n",
       "64645     [sharp, acid, earn, higher, score, green, mint...\n",
       "125672    [sweet, viscos, mire, wine, otherwis, tri, sin...\n",
       "85111     [crisp, zingi, acid, dryness, make, wine, inst...\n",
       "13723     [fresh, green, appl, herb, note, flit, danc, t...\n",
       "91871     [highton, raspberri, blackberri, fruit, dark, ...\n",
       "120083    [oaki, toast, cherri, meet, tangi, juici, acid...\n",
       "Name: description, dtype: object"
      ]
     },
     "execution_count": 16,
     "metadata": {},
     "output_type": "execute_result"
    }
   ],
   "source": [
    "word_vecs.sample(10)"
   ]
  },
  {
   "cell_type": "code",
   "execution_count": 17,
   "metadata": {
    "collapsed": true
   },
   "outputs": [],
   "source": [
    "back2sent = word_vecs.apply(lambda x: ' '.join(x))"
   ]
  },
  {
   "cell_type": "code",
   "execution_count": 18,
   "metadata": {
    "collapsed": true
   },
   "outputs": [],
   "source": [
    "transform = TfidfVectorizer(lowercase=False, min_df=.05)"
   ]
  },
  {
   "cell_type": "code",
   "execution_count": 19,
   "metadata": {
    "collapsed": true
   },
   "outputs": [],
   "source": [
    "tf_idf_matrix = transform.fit_transform(back2sent.values)"
   ]
  },
  {
   "cell_type": "code",
   "execution_count": 20,
   "metadata": {
    "collapsed": true
   },
   "outputs": [],
   "source": [
    "## build train_test_split\n",
    "test_train = np.random.random(word_vecs.shape[0]) < .8\n",
    "Xtr = tf_idf_matrix[test_train]\n",
    "Xte = tf_idf_matrix[~test_train]\n",
    "ytr = y[test_train]\n",
    "yte = y[~test_train]"
   ]
  },
  {
   "cell_type": "code",
   "execution_count": 21,
   "metadata": {
    "collapsed": true
   },
   "outputs": [],
   "source": [
    "from sklearn.naive_bayes import GaussianNB"
   ]
  },
  {
   "cell_type": "code",
   "execution_count": 28,
   "metadata": {},
   "outputs": [
    {
     "name": "stdout",
     "output_type": "stream",
     "text": [
      "0.166948730712\n",
      "0\n"
     ]
    }
   ],
   "source": [
    "start = datetime.now()\n",
    "modelgb = GaussianNB()\n",
    "modelgb.fit(Xtr.toarray(), ytr)\n",
    "print(modelgb.score(Xte.toarray(), yte))\n",
    "print((datetime.now() - start).seconds)"
   ]
  },
  {
   "cell_type": "code",
   "execution_count": 23,
   "metadata": {
    "collapsed": true
   },
   "outputs": [],
   "source": [
    "from sklearn.ensemble import RandomForestClassifier"
   ]
  },
  {
   "cell_type": "code",
   "execution_count": 29,
   "metadata": {},
   "outputs": [
    {
     "name": "stdout",
     "output_type": "stream",
     "text": [
      "0.523046291687\n",
      "8\n"
     ]
    }
   ],
   "source": [
    "start = datetime.now()\n",
    "modelrf = RandomForestClassifier(n_estimators=250, n_jobs=-1)\n",
    "modelrf.fit(Xtr.toarray(), ytr)\n",
    "print(modelrf.score(Xte.toarray(), yte))\n",
    "print((datetime.now() - start).seconds)"
   ]
  },
  {
   "cell_type": "code",
   "execution_count": 26,
   "metadata": {},
   "outputs": [],
   "source": [
    "## run this line if needed xgboost is not a part of Sklearn\n",
    "## we could also use GradientBoostingClassifier, but since it does not support \n",
    "## parallel processing, and XGboost typically gives near the same performance\n",
    "## we will use XGboost\n",
    "#!pip install xgboost"
   ]
  },
  {
   "cell_type": "code",
   "execution_count": 30,
   "metadata": {
    "collapsed": true
   },
   "outputs": [],
   "source": [
    "import xgboost as xgb"
   ]
  },
  {
   "cell_type": "code",
   "execution_count": 34,
   "metadata": {},
   "outputs": [
    {
     "name": "stdout",
     "output_type": "stream",
     "text": [
      "0.4606271777\n",
      "97\n"
     ]
    }
   ],
   "source": [
    "start = datetime.now()\n",
    "modelxg3 = xgb.XGBClassifier(max_depth=3, learning_rate=.05, n_estimators=250, n_jobs=-1)\n",
    "modelxg3.fit(Xtr.toarray(), ytr)\n",
    "print(modelxg3.score(Xte.toarray(), yte))\n",
    "print((datetime.now() - start).seconds)"
   ]
  },
  {
   "cell_type": "code",
   "execution_count": 35,
   "metadata": {},
   "outputs": [
    {
     "name": "stdout",
     "output_type": "stream",
     "text": [
      "0.483225485316\n",
      "160\n"
     ]
    }
   ],
   "source": [
    "start = datetime.now()\n",
    "modelxg5 = xgb.XGBClassifier(max_depth=5, learning_rate=.05, n_estimators=250, n_jobs=-1)\n",
    "modelxg5.fit(Xtr.toarray(), ytr)\n",
    "print(modelxg5.score(Xte.toarray(), yte))\n",
    "print((datetime.now() - start).seconds)"
   ]
  },
  {
   "cell_type": "code",
   "execution_count": 36,
   "metadata": {},
   "outputs": [
    {
     "name": "stdout",
     "output_type": "stream",
     "text": [
      "0.493280238925\n",
      "159\n"
     ]
    }
   ],
   "source": [
    "start = datetime.now()\n",
    "modelxg_lr1 = xgb.XGBClassifier(max_depth=5, learning_rate=.1, n_estimators=250, n_jobs=-1)\n",
    "modelxg_lr1.fit(Xtr.toarray(), ytr)\n",
    "print(modelxg_lr1.score(Xte.toarray(), yte))\n",
    "print((datetime.now() - start).seconds)"
   ]
  },
  {
   "cell_type": "code",
   "execution_count": 37,
   "metadata": {},
   "outputs": [
    {
     "name": "stdout",
     "output_type": "stream",
     "text": [
      "0.493280238925\n",
      "160\n"
     ]
    }
   ],
   "source": [
    "start = datetime.now()\n",
    "modelxg_t1000 = xgb.XGBClassifier(max_depth=5, learning_rate=.1, n_estimators=250, n_jobs=-1)\n",
    "modelxg_t1000.fit(Xtr.toarray(), ytr)\n",
    "print(modelxg_t1000.score(Xte.toarray(), yte))\n",
    "print((datetime.now() - start).seconds)"
   ]
  },
  {
   "cell_type": "code",
   "execution_count": null,
   "metadata": {
    "collapsed": true
   },
   "outputs": [],
   "source": [
    "# dense_matrix = pd.DataFrame(tf_idf_matrix.todense())\n",
    "\n",
    "# ## these may be in order of count, not the orde of the columns so this is were i messed up\n",
    "# dense_matrix.columns = [v for v in transform.vocabulary_.keys()]\n",
    "\n",
    "# dense_matrix.columns\n",
    "\n",
    "# dense_matrix.sample(10)\n",
    "\n",
    "# country_dm = dense_matrix.copy()\n",
    "\n",
    "# country_dm['y'] = df['country']"
   ]
  },
  {
   "cell_type": "code",
   "execution_count": null,
   "metadata": {
    "collapsed": true
   },
   "outputs": [],
   "source": [
    "start = datetime.now()\n",
    "#process things\n",
    "print((datetime.now() - start).seconds)"
   ]
  },
  {
   "cell_type": "code",
   "execution_count": null,
   "metadata": {
    "collapsed": true
   },
   "outputs": [],
   "source": [
    "%%timeit -n 1"
   ]
  }
 ],
 "metadata": {
  "kernelspec": {
   "display_name": "Python 3",
   "language": "python",
   "name": "python3"
  },
  "language_info": {
   "codemirror_mode": {
    "name": "ipython",
    "version": 3
   },
   "file_extension": ".py",
   "mimetype": "text/x-python",
   "name": "python",
   "nbconvert_exporter": "python",
   "pygments_lexer": "ipython3",
   "version": "3.6.1"
  }
 },
 "nbformat": 4,
 "nbformat_minor": 2
}

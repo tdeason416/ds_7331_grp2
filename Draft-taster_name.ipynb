{
 "cells": [
  {
   "cell_type": "code",
   "execution_count": 2,
   "metadata": {
    "collapsed": true
   },
   "outputs": [],
   "source": [
    "import pandas as pd\n",
    "import numpy as np\n",
    "import re\n",
    "import matplotlib.pyplot as plt\n",
    "from nltk.stem import *\n",
    "from sklearn.feature_extraction.text import TfidfVectorizer\n",
    "from datetime import datetime, timedelta, date\n",
    "%matplotlib inline\n",
    "plt.style.use('ggplot')\n",
    "\n",
    "import nltk\n",
    "import string\n",
    "\n",
    "from nltk.corpus import stopwords\n",
    "pstemmer = nltk.PorterStemmer()"
   ]
  },
  {
   "cell_type": "code",
   "execution_count": 5,
   "metadata": {
    "collapsed": true
   },
   "outputs": [],
   "source": [
    "df = pd.read_csv('data/winemag-data-130k-v2.csv')"
   ]
  },
  {
   "cell_type": "code",
   "execution_count": 41,
   "metadata": {},
   "outputs": [
    {
     "data": {
      "text/html": [
       "<div>\n",
       "<style>\n",
       "    .dataframe thead tr:only-child th {\n",
       "        text-align: right;\n",
       "    }\n",
       "\n",
       "    .dataframe thead th {\n",
       "        text-align: left;\n",
       "    }\n",
       "\n",
       "    .dataframe tbody tr th {\n",
       "        vertical-align: top;\n",
       "    }\n",
       "</style>\n",
       "<table border=\"1\" class=\"dataframe\">\n",
       "  <thead>\n",
       "    <tr style=\"text-align: right;\">\n",
       "      <th></th>\n",
       "      <th>Unnamed: 0</th>\n",
       "      <th>country</th>\n",
       "      <th>description</th>\n",
       "      <th>designation</th>\n",
       "      <th>points</th>\n",
       "      <th>price</th>\n",
       "      <th>province</th>\n",
       "      <th>region_1</th>\n",
       "      <th>region_2</th>\n",
       "      <th>taster_name</th>\n",
       "      <th>taster_twitter_handle</th>\n",
       "      <th>title</th>\n",
       "      <th>variety</th>\n",
       "      <th>winery</th>\n",
       "    </tr>\n",
       "  </thead>\n",
       "  <tbody>\n",
       "    <tr>\n",
       "      <th>113468</th>\n",
       "      <td>113468</td>\n",
       "      <td>US</td>\n",
       "      <td>One of the more substantial examples of rosé, ...</td>\n",
       "      <td>NaN</td>\n",
       "      <td>89</td>\n",
       "      <td>16.0</td>\n",
       "      <td>California</td>\n",
       "      <td>Dunnigan Hills</td>\n",
       "      <td>Central Valley</td>\n",
       "      <td>Jim Gordon</td>\n",
       "      <td>@gordone_cellars</td>\n",
       "      <td>Tinto Rey 2016 Rosé (Dunnigan Hills)</td>\n",
       "      <td>Rosé</td>\n",
       "      <td>Tinto Rey</td>\n",
       "    </tr>\n",
       "    <tr>\n",
       "      <th>41286</th>\n",
       "      <td>41286</td>\n",
       "      <td>Italy</td>\n",
       "      <td>Playful aromas of sweet fruit and watermelon c...</td>\n",
       "      <td>NaN</td>\n",
       "      <td>86</td>\n",
       "      <td>12.0</td>\n",
       "      <td>Southern Italy</td>\n",
       "      <td>Taburno</td>\n",
       "      <td>NaN</td>\n",
       "      <td>NaN</td>\n",
       "      <td>NaN</td>\n",
       "      <td>Ocone 2009 Piedirosso (Taburno)</td>\n",
       "      <td>Piedirosso</td>\n",
       "      <td>Ocone</td>\n",
       "    </tr>\n",
       "    <tr>\n",
       "      <th>4790</th>\n",
       "      <td>4790</td>\n",
       "      <td>US</td>\n",
       "      <td>Shows plenty of oak influence, wrapping around...</td>\n",
       "      <td>White Elephant</td>\n",
       "      <td>85</td>\n",
       "      <td>17.0</td>\n",
       "      <td>California</td>\n",
       "      <td>California</td>\n",
       "      <td>California Other</td>\n",
       "      <td>NaN</td>\n",
       "      <td>NaN</td>\n",
       "      <td>Vinum 2010 White Elephant White (California)</td>\n",
       "      <td>White Blend</td>\n",
       "      <td>Vinum</td>\n",
       "    </tr>\n",
       "    <tr>\n",
       "      <th>57928</th>\n",
       "      <td>57928</td>\n",
       "      <td>France</td>\n",
       "      <td>As rich and intense as the same producer's Non...</td>\n",
       "      <td>Bouzy Grand Cru Brut Rosé</td>\n",
       "      <td>90</td>\n",
       "      <td>45.0</td>\n",
       "      <td>Champagne</td>\n",
       "      <td>Champagne</td>\n",
       "      <td>NaN</td>\n",
       "      <td>Roger Voss</td>\n",
       "      <td>@vossroger</td>\n",
       "      <td>P. Louis Martini NV Bouzy Grand Cru Brut Rosé ...</td>\n",
       "      <td>Champagne Blend</td>\n",
       "      <td>P. Louis Martini</td>\n",
       "    </tr>\n",
       "    <tr>\n",
       "      <th>16045</th>\n",
       "      <td>16045</td>\n",
       "      <td>Portugal</td>\n",
       "      <td>A creamy textured, citrus-flavored wine that i...</td>\n",
       "      <td>Adega de Pegões Colheita Seleccionada</td>\n",
       "      <td>87</td>\n",
       "      <td>NaN</td>\n",
       "      <td>Península de Setúbal</td>\n",
       "      <td>NaN</td>\n",
       "      <td>NaN</td>\n",
       "      <td>Roger Voss</td>\n",
       "      <td>@vossroger</td>\n",
       "      <td>Cooperativa Agricola de Santo Isidro de Pegoes...</td>\n",
       "      <td>Portuguese White</td>\n",
       "      <td>Cooperativa Agricola de Santo Isidro de Pegoes</td>\n",
       "    </tr>\n",
       "  </tbody>\n",
       "</table>\n",
       "</div>"
      ],
      "text/plain": [
       "        Unnamed: 0   country  \\\n",
       "113468      113468        US   \n",
       "41286        41286     Italy   \n",
       "4790          4790        US   \n",
       "57928        57928    France   \n",
       "16045        16045  Portugal   \n",
       "\n",
       "                                              description  \\\n",
       "113468  One of the more substantial examples of rosé, ...   \n",
       "41286   Playful aromas of sweet fruit and watermelon c...   \n",
       "4790    Shows plenty of oak influence, wrapping around...   \n",
       "57928   As rich and intense as the same producer's Non...   \n",
       "16045   A creamy textured, citrus-flavored wine that i...   \n",
       "\n",
       "                                  designation  points  price  \\\n",
       "113468                                    NaN      89   16.0   \n",
       "41286                                     NaN      86   12.0   \n",
       "4790                           White Elephant      85   17.0   \n",
       "57928               Bouzy Grand Cru Brut Rosé      90   45.0   \n",
       "16045   Adega de Pegões Colheita Seleccionada      87    NaN   \n",
       "\n",
       "                    province        region_1          region_2 taster_name  \\\n",
       "113468            California  Dunnigan Hills    Central Valley  Jim Gordon   \n",
       "41286         Southern Italy         Taburno               NaN         NaN   \n",
       "4790              California      California  California Other         NaN   \n",
       "57928              Champagne       Champagne               NaN  Roger Voss   \n",
       "16045   Península de Setúbal             NaN               NaN  Roger Voss   \n",
       "\n",
       "       taster_twitter_handle  \\\n",
       "113468      @gordone_cellars   \n",
       "41286                    NaN   \n",
       "4790                     NaN   \n",
       "57928             @vossroger   \n",
       "16045             @vossroger   \n",
       "\n",
       "                                                    title           variety  \\\n",
       "113468               Tinto Rey 2016 Rosé (Dunnigan Hills)              Rosé   \n",
       "41286                     Ocone 2009 Piedirosso (Taburno)        Piedirosso   \n",
       "4790         Vinum 2010 White Elephant White (California)       White Blend   \n",
       "57928   P. Louis Martini NV Bouzy Grand Cru Brut Rosé ...   Champagne Blend   \n",
       "16045   Cooperativa Agricola de Santo Isidro de Pegoes...  Portuguese White   \n",
       "\n",
       "                                                winery  \n",
       "113468                                       Tinto Rey  \n",
       "41286                                            Ocone  \n",
       "4790                                             Vinum  \n",
       "57928                                 P. Louis Martini  \n",
       "16045   Cooperativa Agricola de Santo Isidro de Pegoes  "
      ]
     },
     "execution_count": 41,
     "metadata": {},
     "output_type": "execute_result"
    }
   ],
   "source": [
    "df.sample(5)"
   ]
  },
  {
   "cell_type": "code",
   "execution_count": 38,
   "metadata": {},
   "outputs": [
    {
     "data": {
      "text/plain": [
       "array([ 'Pastry notes blend with ripe berry aromas and hints of vanilla and raisin. This is rubbery and tannic in feel, with flavors of cherry, plum, cassis and herbal spice. On the finish, an herbal flavor note is typical of Chilean Cabernet.',\n",
       "       \"A wisp of smoke mingles with blossom, apple and pear flavors in this lively, fresh Pinot Gris. It's quite tart with acidity, but pleasantly fruity with a subtle hint of minerality on the finish.\",\n",
       "       'Darkly colored, this wine opens with aromas of menthol, espresso and plum. The one-dimensional palate is surprisingly dense for the vintage, offering black cherry, espresso and clove alongside polished tannins.',\n",
       "       'Elegantly smooth in the mouth, like silk and velvet—this has rich, forward blackberry, black currant and oak flavors. It feels dramatic and complex, a white-tablecloth Cabernet for pairing with fine meats and cheeses. Seems best now and for a couple more years.',\n",
       "       'Made in a deliciously oaky style, this smells like melted butter and toasted baguette, tastes like ripe pears drizzled with crème anglaise and feels almost sweet. The toasted oak component adds a touch of bitterness to balance the richness, and it all works beautifully for this approach.',\n",
       "       \"This pristine Prosecco Brut offers drying mineral tones framed by delicate notes of stone fruit and spring blossoms. This is an elegant and linear wine with a direct and immediate personality. You'll get soft peach flavors and a clean, crisp close.\",\n",
       "       'No oak on this wine, just free run juice, offering a pure expression of the vineyard. The flavors are of pineapple, lemons, limes and green apples, accented with crisp acidity. The finish is sugary sweet.',\n",
       "       'Easy-drinking and intensely structured, this is marked by streaks of red raspberry fruit that also reveal cedar and herb. Slightly floral on the nose, the wine has a softness despite its size.',\n",
       "       'This is quintessential Argentine Malbec. Aromas of roasted black fruits and smoke transition to a toasty, oaky palate with a spectrum of flavors ranging from herbal to jammy berry. In between are notes of tobacco, spice and molasses. Drink now through 2018.',\n",
       "       \"What a nice Sauvignon Blanc this is. It's crisp and delicately structured, with light, airy flavors of limes, dried hay, pineapple zest and white pepper.\",\n",
       "       'Easy-drinking and attractively priced, this fresh Chianti Classico makes a perfect companion to cheesy pasta or oven-roasted lasagna. The wine offers enough acidity to keep the palate refreshed.',\n",
       "       'This is a rich, wood-aged wine with spice, apricot and ripe plum fruits and a mineral texture. It is rounded as well as fresh, crisp with acidity while full in fruits. Drink this delicious wine now.',\n",
       "       'Cola, root beer and other earthy aromas open up this full-bodied blend of 70% Cabernet and 30% Carmenère. The palate shows pointed, prickly acidity and flavors of black cherry and cassis. Offers a rich flavor profile but the acidity creates bite and sharpness.',\n",
       "       'Inky purple in color, with herbal, minty, toasty berry aromas that suggest a touch of green, this Tannat-Malbec blend tastes of rooty, baked black fruits and black pepper. On the finish, which is hard as rocks, this tastes of licorice and burnt toast.',\n",
       "       'This semisweet sparkling wine has vanilla bean and orange sorbet aromas. It has a good level of bubbles and marzipan and sweet tropical fruit flavors that persist into the finish.',\n",
       "       \"This bright and engaging wine looks quite deep in color, smells jammy, tastes fresh, young and gushing with ripe blackberry and blueberry flavors. It's not too tannic, not too full-bodied, appropriately dry and easy to enjoy.\",\n",
       "       'There is as much fruit as structure in this wine. Ripe red fruits are supported by solid tannins while pushing out fragrant acidity. It has structure while also allowing room for final fruitiness.',\n",
       "       \"Black cherry fruits sink even deeper into blackberry jam on this nose, which is leveled by vanilla and black licorice. It's chunky and sticky once sipped, with blueberry juice and chocolate-chip elements that are cut with anise-like herbs. Espresso shows on the finish, which is slightly sour and bitter.\",\n",
       "       'Owner Arnaud Briday has made a firm structured cru wine. While it has the generous fruit of the year, it also has plenty of tannins that give it tension and concentration. The wine is rich with explosive berry fruits and balanced acidity. Drink from 2018.',\n",
       "       'Subtle in approach, in keeping with the Dopff & Irion house style, this wine shows good minerality on the nose and moderate intensity in the mouth. Not overpowered by superripe flavors—the themes here are apple and pear. The dry, citrusy finish makes this a good pairing for a meaty fish such as swordfish or tuna.'], dtype=object)"
      ]
     },
     "execution_count": 38,
     "metadata": {},
     "output_type": "execute_result"
    }
   ],
   "source": [
    "df.description.sample(20).values"
   ]
  },
  {
   "cell_type": "code",
   "execution_count": 7,
   "metadata": {},
   "outputs": [
    {
     "name": "stdout",
     "output_type": "stream",
     "text": [
      "<class 'pandas.core.frame.DataFrame'>\n",
      "RangeIndex: 129971 entries, 0 to 129970\n",
      "Data columns (total 14 columns):\n",
      "Unnamed: 0               129971 non-null int64\n",
      "country                  129908 non-null object\n",
      "description              129971 non-null object\n",
      "designation              92506 non-null object\n",
      "points                   129971 non-null int64\n",
      "price                    120975 non-null float64\n",
      "province                 129908 non-null object\n",
      "region_1                 108724 non-null object\n",
      "region_2                 50511 non-null object\n",
      "taster_name              103727 non-null object\n",
      "taster_twitter_handle    98758 non-null object\n",
      "title                    129971 non-null object\n",
      "variety                  129970 non-null object\n",
      "winery                   129971 non-null object\n",
      "dtypes: float64(1), int64(2), object(11)\n",
      "memory usage: 13.9+ MB\n"
     ]
    }
   ],
   "source": [
    "df.info()"
   ]
  },
  {
   "cell_type": "code",
   "execution_count": 98,
   "metadata": {},
   "outputs": [
    {
     "name": "stdout",
     "output_type": "stream",
     "text": [
      "Unnamed: 0 129971\n",
      "country 44\n",
      "description 119955\n",
      "designation 37980\n",
      "points 21\n",
      "price 391\n",
      "province 426\n",
      "region_1 1230\n",
      "region_2 18\n",
      "taster_name 20\n",
      "taster_twitter_handle 16\n",
      "title 118840\n",
      "variety 708\n",
      "winery 16757\n"
     ]
    }
   ],
   "source": [
    "for col in df.columns:\n",
    "    print(col, df[col].unique().size)"
   ]
  },
  {
   "cell_type": "code",
   "execution_count": 12,
   "metadata": {},
   "outputs": [
    {
     "data": {
      "text/plain": [
       "none                  0.201922\n",
       "Roger Voss            0.196305\n",
       "Michael Schachner     0.116441\n",
       "Kerin O’Keefe         0.082911\n",
       "Virginie Boone        0.073378\n",
       "Paul Gregutt          0.073339\n",
       "Matt Kettmann         0.048719\n",
       "Joe Czerwinski        0.039601\n",
       "Sean P. Sullivan      0.038209\n",
       "Anna Lee C. Iijima    0.033969\n",
       "Jim Gordon            0.032138\n",
       "Anne Krebiehl MW      0.028352\n",
       "Lauren Buzzeo         0.014119\n",
       "Susan Kostrzewa       0.008348\n",
       "Mike DeSimone         0.003955\n",
       "Jeff Jenssen          0.003778\n",
       "Alexander Peartree    0.003193\n",
       "Carrie Dykes          0.001069\n",
       "Fiona Adams           0.000208\n",
       "Christina Pickard     0.000046\n",
       "Name: taster_name, dtype: float64"
      ]
     },
     "execution_count": 12,
     "metadata": {},
     "output_type": "execute_result"
    }
   ],
   "source": [
    "df['taster_name'].fillna('none').value_counts(1)"
   ]
  },
  {
   "cell_type": "code",
   "execution_count": 42,
   "metadata": {
    "collapsed": true
   },
   "outputs": [],
   "source": [
    "df_nona = df[df['taster_name'].fillna('N') != 'N']"
   ]
  },
  {
   "cell_type": "code",
   "execution_count": 43,
   "metadata": {
    "collapsed": true
   },
   "outputs": [],
   "source": [
    "label_map = {val: idx for idx, val in enumerate(df['taster_name'].unique())}"
   ]
  },
  {
   "cell_type": "code",
   "execution_count": 33,
   "metadata": {},
   "outputs": [],
   "source": [
    "y = df_nona['taster_name'].replace(label_map).values"
   ]
  },
  {
   "cell_type": "code",
   "execution_count": 34,
   "metadata": {
    "collapsed": true
   },
   "outputs": [],
   "source": [
    "reviews = df_nona.description"
   ]
  },
  {
   "cell_type": "code",
   "execution_count": 35,
   "metadata": {
    "collapsed": true
   },
   "outputs": [],
   "source": [
    "swords = set(stopwords.words('english'))"
   ]
  },
  {
   "cell_type": "code",
   "execution_count": 36,
   "metadata": {
    "collapsed": true
   },
   "outputs": [],
   "source": [
    "ps = PorterStemmer()"
   ]
  },
  {
   "cell_type": "code",
   "execution_count": 44,
   "metadata": {
    "collapsed": true
   },
   "outputs": [],
   "source": [
    "word_vecs = reviews\\\n",
    "    .apply(lambda x: [re.sub(\"[\\W]\", '', i).lower().strip() for i in x.split()])\\\n",
    "    .apply(lambda x: [ps.stem(i) for i in x if i not in swords and len(i) > 3])"
   ]
  },
  {
   "cell_type": "code",
   "execution_count": 45,
   "metadata": {},
   "outputs": [
    {
     "data": {
      "text/plain": [
       "37673     [perfum, wine, thin, textur, pure, applejuic, ...\n",
       "81121     [pinch, smell, first, note, turpentin, air, el...\n",
       "67456     [dark, berri, press, flower, iron, leather, sp...\n",
       "12015     [three, stand, wine, aviz, ambonnay, grand, vi...\n",
       "24789     [dens, nose, black, fruit, aroma, mild, herb, ...\n",
       "57371     [wine, rich, bring, togeth, great, white, grap...\n",
       "110924    [wine, sanglièr, rang, delici, fine, balanc, f...\n",
       "45111     [blend, cabernet, franc, syrah, merlot, cabern...\n",
       "4873      [underbrush, dark, berri, press, violet, aroma...\n",
       "15534     [rather, delic, viognier, still, lightli, yeas...\n",
       "Name: description, dtype: object"
      ]
     },
     "execution_count": 45,
     "metadata": {},
     "output_type": "execute_result"
    }
   ],
   "source": [
    "word_vecs.sample(10)"
   ]
  },
  {
   "cell_type": "code",
   "execution_count": 46,
   "metadata": {
    "collapsed": true
   },
   "outputs": [],
   "source": [
    "back2sent = word_vecs.apply(lambda x: ' '.join(x))"
   ]
  },
  {
   "cell_type": "code",
   "execution_count": 47,
   "metadata": {
    "collapsed": true
   },
   "outputs": [],
   "source": [
    "transform = TfidfVectorizer(lowercase=False, min_df=.05)"
   ]
  },
  {
   "cell_type": "code",
   "execution_count": 53,
   "metadata": {},
   "outputs": [],
   "source": [
    "tf_idf_matrix = transform.fit_transform(back2sent.values)"
   ]
  },
  {
   "cell_type": "code",
   "execution_count": 54,
   "metadata": {
    "collapsed": true
   },
   "outputs": [],
   "source": [
    "from sklearn.naive_bayes import GaussianNB"
   ]
  },
  {
   "cell_type": "code",
   "execution_count": 60,
   "metadata": {},
   "outputs": [],
   "source": [
    "test_train = np.random.random(word_vecs.shape[0]) < .8\n",
    "Xtr = tf_idf_matrix[test_train]\n",
    "Xte = tf_idf_matrix[~test_train]\n",
    "ytr = y[test_train]\n",
    "yte = y[~test_train]"
   ]
  },
  {
   "cell_type": "code",
   "execution_count": 61,
   "metadata": {
    "collapsed": true
   },
   "outputs": [],
   "source": [
    "model = GaussianNB()"
   ]
  },
  {
   "cell_type": "code",
   "execution_count": 64,
   "metadata": {},
   "outputs": [
    {
     "data": {
      "text/plain": [
       "GaussianNB(priors=None)"
      ]
     },
     "execution_count": 64,
     "metadata": {},
     "output_type": "execute_result"
    }
   ],
   "source": [
    "model.fit(Xtr.toarray(), ytr)"
   ]
  },
  {
   "cell_type": "code",
   "execution_count": 67,
   "metadata": {},
   "outputs": [
    {
     "data": {
      "text/plain": [
       "(20894, 19)"
      ]
     },
     "execution_count": 67,
     "metadata": {},
     "output_type": "execute_result"
    }
   ],
   "source": [
    "model.predict_proba(Xte.toarray()).shape"
   ]
  },
  {
   "cell_type": "code",
   "execution_count": 68,
   "metadata": {},
   "outputs": [
    {
     "data": {
      "text/plain": [
       "0.36905331674164832"
      ]
     },
     "execution_count": 68,
     "metadata": {},
     "output_type": "execute_result"
    }
   ],
   "source": [
    "model.score(Xte.toarray(), yte)"
   ]
  },
  {
   "cell_type": "code",
   "execution_count": 69,
   "metadata": {
    "collapsed": true
   },
   "outputs": [],
   "source": [
    "from sklearn.ensemble import RandomForestClassifier"
   ]
  },
  {
   "cell_type": "code",
   "execution_count": 84,
   "metadata": {},
   "outputs": [
    {
     "data": {
      "text/plain": [
       "RandomForestClassifier(bootstrap=True, class_weight=None, criterion='gini',\n",
       "            max_depth=None, max_features='auto', max_leaf_nodes=None,\n",
       "            min_impurity_split=1e-07, min_samples_leaf=1,\n",
       "            min_samples_split=2, min_weight_fraction_leaf=0.0,\n",
       "            n_estimators=250, n_jobs=-1, oob_score=False,\n",
       "            random_state=None, verbose=0, warm_start=False)"
      ]
     },
     "execution_count": 84,
     "metadata": {},
     "output_type": "execute_result"
    }
   ],
   "source": [
    "model2 = RandomForestClassifier(n_estimators=250, n_jobs=-1)\n",
    "model2.fit(Xtr.toarray(), ytr)"
   ]
  },
  {
   "cell_type": "code",
   "execution_count": 85,
   "metadata": {},
   "outputs": [
    {
     "data": {
      "text/plain": [
       "0.76084043266009382"
      ]
     },
     "execution_count": 85,
     "metadata": {},
     "output_type": "execute_result"
    }
   ],
   "source": [
    "model2.score(Xte.toarray(), yte)"
   ]
  },
  {
   "cell_type": "code",
   "execution_count": 87,
   "metadata": {},
   "outputs": [
    {
     "name": "stdout",
     "output_type": "stream",
     "text": [
      "Collecting xgboost\n",
      "\u001b[?25l  Downloading https://files.pythonhosted.org/packages/83/3a/8570f4e8e19acd3a5a75abc920964182a4b64db2ee0f041fb77b48447c6b/xgboost-0.72.tar.gz (1.1MB)\n",
      "\u001b[K    100% |████████████████████████████████| 1.1MB 13.3MB/s ta 0:00:01\n",
      "\u001b[?25hRequirement already satisfied: numpy in /Users/travis/anaconda/lib/python3.6/site-packages (from xgboost) (1.12.1)\n",
      "Requirement already satisfied: scipy in /Users/travis/anaconda/lib/python3.6/site-packages (from xgboost) (0.19.0)\n",
      "Building wheels for collected packages: xgboost\n",
      "  Running setup.py bdist_wheel for xgboost ... \u001b[?25ldone\n",
      "\u001b[?25h  Stored in directory: /Users/travis/Library/Caches/pip/wheels/0a/78/34/a11088de607478e7447698587aea75e3e20ecdddd1dd10d751\n",
      "Successfully built xgboost\n",
      "\u001b[31mpyspark 2.2.1 requires py4j==0.10.4, which is not installed.\u001b[0m\n",
      "Installing collected packages: xgboost\n",
      "Successfully installed xgboost-0.72\n"
     ]
    }
   ],
   "source": [
    "## run this line if needed xgboost is not a part of Sklearn\n",
    "## we could also use GradientBoostingClassifier, but since it does not support \n",
    "## parallel processing, and XGboost typically gives near the same performance\n",
    "## we will use XGboost\n",
    "\n",
    "\n",
    "!pip install xgboost"
   ]
  },
  {
   "cell_type": "code",
   "execution_count": 88,
   "metadata": {},
   "outputs": [],
   "source": [
    "import xgboost as xgb"
   ]
  },
  {
   "cell_type": "code",
   "execution_count": 89,
   "metadata": {
    "collapsed": true
   },
   "outputs": [],
   "source": [
    "modelxg3 = xgb.XGBClassifier(max_depth=3, learning_rate=.05, n_estimators=250, n_jobs=-1)"
   ]
  },
  {
   "cell_type": "code",
   "execution_count": 91,
   "metadata": {},
   "outputs": [
    {
     "data": {
      "text/plain": [
       "XGBClassifier(base_score=0.5, booster='gbtree', colsample_bylevel=1,\n",
       "       colsample_bytree=1, gamma=0, learning_rate=0.05, max_delta_step=0,\n",
       "       max_depth=3, min_child_weight=1, missing=None, n_estimators=250,\n",
       "       n_jobs=-1, nthread=None, objective='multi:softprob', random_state=0,\n",
       "       reg_alpha=0, reg_lambda=1, scale_pos_weight=1, seed=None,\n",
       "       silent=True, subsample=1)"
      ]
     },
     "execution_count": 91,
     "metadata": {},
     "output_type": "execute_result"
    }
   ],
   "source": [
    "modelxg3.fit(Xtr.toarray(), ytr)"
   ]
  },
  {
   "cell_type": "code",
   "execution_count": 92,
   "metadata": {},
   "outputs": [
    {
     "data": {
      "text/plain": [
       "0.73073609648702975"
      ]
     },
     "execution_count": 92,
     "metadata": {},
     "output_type": "execute_result"
    }
   ],
   "source": [
    "modelxg3.score(Xte.toarray(), yte)"
   ]
  },
  {
   "cell_type": "code",
   "execution_count": 93,
   "metadata": {},
   "outputs": [
    {
     "data": {
      "text/plain": [
       "0.75959605628410065"
      ]
     },
     "execution_count": 93,
     "metadata": {},
     "output_type": "execute_result"
    }
   ],
   "source": [
    "modelxg5 = xgb.XGBClassifier(max_depth=5, learning_rate=.05, n_estimators=250, n_jobs=-1)\n",
    "modelxg5.fit(Xtr.toarray(), ytr)\n",
    "modelxg5.score(Xte.toarray(), yte)"
   ]
  },
  {
   "cell_type": "code",
   "execution_count": 94,
   "metadata": {},
   "outputs": [
    {
     "data": {
      "text/plain": [
       "0.77964966018952808"
      ]
     },
     "execution_count": 94,
     "metadata": {},
     "output_type": "execute_result"
    }
   ],
   "source": [
    "modelxg_lr1 = xgb.XGBClassifier(max_depth=5, learning_rate=.1, n_estimators=250, n_jobs=-1)\n",
    "modelxg_lr1.fit(Xtr.toarray(), ytr)\n",
    "modelxg_lr1.score(Xte.toarray(), yte)"
   ]
  },
  {
   "cell_type": "code",
   "execution_count": 79,
   "metadata": {
    "collapsed": true
   },
   "outputs": [],
   "source": [
    "# dense_matrix = pd.DataFrame(tf_idf_matrix.todense())\n",
    "\n",
    "# ## these may be in order of count, not the orde of the columns so this is were i messed up\n",
    "# dense_matrix.columns = [v for v in transform.vocabulary_.keys()]\n",
    "\n",
    "# dense_matrix.columns\n",
    "\n",
    "# dense_matrix.sample(10)\n",
    "\n",
    "# country_dm = dense_matrix.copy()\n",
    "\n",
    "# country_dm['y'] = df['country']"
   ]
  },
  {
   "cell_type": "code",
   "execution_count": null,
   "metadata": {
    "collapsed": true
   },
   "outputs": [],
   "source": [
    "start = datetime.now()\n",
    "#process things\n",
    "print((datetime.now() - start).seconds())"
   ]
  },
  {
   "cell_type": "code",
   "execution_count": null,
   "metadata": {
    "collapsed": true
   },
   "outputs": [],
   "source": [
    "%%timeit -n 1"
   ]
  }
 ],
 "metadata": {
  "kernelspec": {
   "display_name": "Python 3",
   "language": "python",
   "name": "python3"
  },
  "language_info": {
   "codemirror_mode": {
    "name": "ipython",
    "version": 3
   },
   "file_extension": ".py",
   "mimetype": "text/x-python",
   "name": "python",
   "nbconvert_exporter": "python",
   "pygments_lexer": "ipython3",
   "version": "3.6.1"
  }
 },
 "nbformat": 4,
 "nbformat_minor": 2
}

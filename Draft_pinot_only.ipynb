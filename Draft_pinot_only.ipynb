{
 "cells": [
  {
   "cell_type": "code",
   "execution_count": 1,
   "metadata": {
    "collapsed": true
   },
   "outputs": [],
   "source": [
    "import pandas as pd\n",
    "import numpy as np\n",
    "import re\n",
    "import matplotlib.pyplot as plt\n",
    "from nltk.stem import *\n",
    "from sklearn.feature_extraction.text import TfidfVectorizer\n",
    "from datetime import datetime, timedelta, date\n",
    "%matplotlib inline\n",
    "plt.style.use('ggplot')\n",
    "\n",
    "import nltk\n",
    "import string\n",
    "\n",
    "from nltk.corpus import stopwords\n",
    "pstemmer = nltk.PorterStemmer()"
   ]
  },
  {
   "cell_type": "code",
   "execution_count": 17,
   "metadata": {
    "collapsed": true
   },
   "outputs": [],
   "source": [
    "y_col = 'variety_cleaned'"
   ]
  },
  {
   "cell_type": "code",
   "execution_count": 3,
   "metadata": {
    "collapsed": true
   },
   "outputs": [],
   "source": [
    "df = pd.read_csv('data/winemag-data-130k-v2.csv')"
   ]
  },
  {
   "cell_type": "code",
   "execution_count": 4,
   "metadata": {
    "collapsed": true
   },
   "outputs": [],
   "source": [
    "## Replace Commonly used diffirent names with the more common name\n",
    "repl_dir = {'petite sirah': 'syrah', \n",
    "            'shiraz': 'syrah', \n",
    "            'champagne' :'sparkling',\n",
    "           }"
   ]
  },
  {
   "cell_type": "code",
   "execution_count": 5,
   "metadata": {
    "collapsed": true
   },
   "outputs": [],
   "source": [
    "## Fill NA values to avoid Null errors\n",
    "df_nona = df.fillna('NA')"
   ]
  },
  {
   "cell_type": "code",
   "execution_count": 6,
   "metadata": {
    "collapsed": true
   },
   "outputs": [],
   "source": [
    "### Remove all Blends and Wine Types made with more then one Grape\n",
    "no_hyph = df_nona[df_nona['variety']\\\n",
    "                    .apply(lambda x: len(x.split('-')) < 2)]['variety'].str.lower()\n",
    "no_hyph = no_hyph[no_hyph.apply(lambda x: x.split()[-1] != 'blend')].replace(repl_dir)"
   ]
  },
  {
   "cell_type": "code",
   "execution_count": 209,
   "metadata": {
    "collapsed": true
   },
   "outputs": [],
   "source": [
    "### Retain Only the Top 12 most common wine types\n",
    "keep_vars = set(no_hyph.value_counts().head(12).index)"
   ]
  },
  {
   "cell_type": "code",
   "execution_count": 210,
   "metadata": {
    "collapsed": true
   },
   "outputs": [],
   "source": [
    "### Substitute out replaced names in main dataframe under new column name\n",
    "### And reduce dataframe to only include top 12 most common grapes\n",
    "df[y_col] = df['variety'].str.lower().replace(repl_dir)\n",
    "df_noblends = df[df[y_col].replace(repl_dir).str.lower().isin(keep_vars)]\n",
    "\n",
    "df_noblends[y_col].unique().size"
   ]
  },
  {
   "cell_type": "code",
   "execution_count": 28,
   "metadata": {},
   "outputs": [
    {
     "name": "stdout",
     "output_type": "stream",
     "text": [
      "13272\n"
     ]
    }
   ],
   "source": [
    "### Generate Binary Classification Dataframe for Pinot Noir grapes to speed up \n",
    "### model performance evaluation\n",
    "min_val = df_noblends[df_noblends[y_col] == 'pinot noir'].shape[0]\n",
    "print(min_val)\n",
    "is_pinot = df_noblends[df_noblends[y_col] == 'pinot noir'].sample(min_val)\n",
    "not_pinot = df_noblends[df_noblends[y_col] != 'pinot noir'].sample(min_val)\n",
    "ndf = pd.concat([is_pinot, not_pinot])"
   ]
  },
  {
   "cell_type": "code",
   "execution_count": 29,
   "metadata": {},
   "outputs": [
    {
     "data": {
      "text/plain": [
       "(26544, 15)"
      ]
     },
     "execution_count": 29,
     "metadata": {},
     "output_type": "execute_result"
    }
   ],
   "source": [
    "ndf.shape"
   ]
  },
  {
   "cell_type": "code",
   "execution_count": 30,
   "metadata": {
    "collapsed": true
   },
   "outputs": [],
   "source": [
    "### Genrate mapping of numerical values to Grape names\n",
    "classif_varieties = set(ndf[y_col].unique())\n",
    "label_map = {val: idx for idx, val in enumerate(ndf[y_col].unique())}"
   ]
  },
  {
   "cell_type": "code",
   "execution_count": 32,
   "metadata": {},
   "outputs": [
    {
     "data": {
      "text/plain": [
       "{'cabernet franc': 7,\n",
       " 'cabernet sauvignon': 13,\n",
       " 'chardonnay': 4,\n",
       " 'malbec': 10,\n",
       " 'merlot': 1,\n",
       " 'nebbiolo': 12,\n",
       " 'pinot gris': 6,\n",
       " 'pinot noir': 0,\n",
       " 'portuguese red': 9,\n",
       " 'riesling': 2,\n",
       " 'rosé': 3,\n",
       " 'sangiovese': 15,\n",
       " 'sauvignon blanc': 5,\n",
       " 'syrah': 8,\n",
       " 'tempranillo': 11,\n",
       " 'zinfandel': 14}"
      ]
     },
     "execution_count": 32,
     "metadata": {},
     "output_type": "execute_result"
    }
   ],
   "source": [
    "label_map"
   ]
  },
  {
   "cell_type": "code",
   "execution_count": 33,
   "metadata": {
    "collapsed": true
   },
   "outputs": [],
   "source": [
    "y = ndf[y_col] == 'pinot noir'"
   ]
  },
  {
   "cell_type": "code",
   "execution_count": 76,
   "metadata": {
    "collapsed": true
   },
   "outputs": [],
   "source": [
    "### Remove stop words and use porterstemmer to generate word stems\n",
    "reviews = ndf.description\n",
    "\n",
    "swords = set(stopwords.words('english'))\n",
    "\n",
    "ps = PorterStemmer()\n",
    "\n",
    "word_vecs = reviews\\\n",
    "    .apply(lambda x: [re.sub(\"[\\W]\", '', i).lower().strip() for i in x.split()])\\\n",
    "    .apply(lambda x: [ps.stem(i) for i in x if i not in swords and len(i) > 3])\n",
    "\n",
    "back2sent = word_vecs.apply(lambda x: ' '.join(x))"
   ]
  },
  {
   "cell_type": "code",
   "execution_count": 80,
   "metadata": {},
   "outputs": [
    {
     "data": {
      "text/plain": [
       "55351     [real, deal, fine, intric, pinot, noir, vineya...\n",
       "76713     [herbal, tobacco, leaf, cedar, mediumbodi, res...\n",
       "58375     [tremend, wine, appeal, sens, well, intellect,...\n",
       "115328    [touch, salt, caramel, appear, flesh, ripe, ye...\n",
       "32230     [still, young, full, acid, well, bright, raspb...\n",
       "85843     [love, wine, uniqu, distinct, rich, creami, ci...\n",
       "119250    [seduct, woodsi, aroma, complex, flavor, cherr...\n",
       "55450     [variet, wine, ferment, stainless, steel, brig...\n",
       "65636     [caramel, find, companion, tangi, acid, fullbo...\n",
       "90532     [despit, rather, high, list, alcohol, look, fe...\n",
       "Name: description, dtype: object"
      ]
     },
     "execution_count": 80,
     "metadata": {},
     "output_type": "execute_result"
    }
   ],
   "source": [
    "### Sample of clean descriptions\n",
    "word_vecs.sample(10)"
   ]
  },
  {
   "cell_type": "code",
   "execution_count": 82,
   "metadata": {
    "collapsed": true
   },
   "outputs": [],
   "source": [
    "### Use Sklearn TfidfVectorizer to convert words into vectors\n",
    "transform = TfidfVectorizer(lowercase=False, min_df=.01)\n",
    "tf_idf_matrix = transform.fit_transform(back2sent.values)\n",
    "tf_idf_matrix.shape"
   ]
  },
  {
   "cell_type": "code",
   "execution_count": 85,
   "metadata": {},
   "outputs": [
    {
     "name": "stderr",
     "output_type": "stream",
     "text": [
      "/Users/travis/anaconda/lib/python3.6/site-packages/pandas/core/internals.py:258: VisibleDeprecationWarning: boolean index did not match indexed array along dimension 0; dimension is 75028 but corresponding boolean dimension is 26544\n",
      "  return self.values[slicer]\n",
      "/Users/travis/anaconda/lib/python3.6/site-packages/pandas/core/indexes/base.py:1650: VisibleDeprecationWarning: boolean index did not match indexed array along dimension 0; dimension is 75028 but corresponding boolean dimension is 26544\n",
      "  result = getitem(key)\n"
     ]
    }
   ],
   "source": [
    "## build train_test_split\n",
    "test_train = np.random.random(word_vecs.shape[0]) < .8\n",
    "Xtr = tf_idf_matrix[test_train]\n",
    "Xte = tf_idf_matrix[~test_train]\n",
    "ytr = y[test_train]\n",
    "yte = y[~test_train]"
   ]
  },
  {
   "cell_type": "markdown",
   "metadata": {},
   "source": [
    "### Test Gaussian Naiive Bayes Model"
   ]
  },
  {
   "cell_type": "code",
   "execution_count": 86,
   "metadata": {
    "collapsed": true
   },
   "outputs": [],
   "source": [
    "from sklearn.naive_bayes import GaussianNB"
   ]
  },
  {
   "cell_type": "code",
   "execution_count": 87,
   "metadata": {},
   "outputs": [
    {
     "name": "stdout",
     "output_type": "stream",
     "text": [
      "0.544556301268\n",
      "0\n"
     ]
    }
   ],
   "source": [
    "start = datetime.now()\n",
    "modelgb = GaussianNB()\n",
    "modelgb.fit(Xtr.toarray(), ytr)\n",
    "print(modelgb.score(Xte.toarray(), yte))\n",
    "print((datetime.now() - start).seconds)"
   ]
  },
  {
   "cell_type": "markdown",
   "metadata": {},
   "source": [
    "### Test Support Vector Machine Model"
   ]
  },
  {
   "cell_type": "code",
   "execution_count": null,
   "metadata": {
    "collapsed": true
   },
   "outputs": [],
   "source": [
    "from sklearn.svm import SVC"
   ]
  },
  {
   "cell_type": "code",
   "execution_count": null,
   "metadata": {
    "collapsed": true
   },
   "outputs": [],
   "source": [
    "start = datetime.now()\n",
    "model_svm = SVC(C=1.0, kernel='rbf', degree=3, gamma=.05)\n",
    "model_svm.fit(Xtr.toarray(), ytr)\n",
    "print( model_svm.score(Xte.toarray(), yte))\n",
    "print((datetime.now()-start).seconds)"
   ]
  },
  {
   "cell_type": "markdown",
   "metadata": {},
   "source": [
    "### Test Random Forest Model"
   ]
  },
  {
   "cell_type": "code",
   "execution_count": 88,
   "metadata": {
    "collapsed": true
   },
   "outputs": [],
   "source": [
    "from sklearn.ensemble import RandomForestClassifier"
   ]
  },
  {
   "cell_type": "code",
   "execution_count": 96,
   "metadata": {},
   "outputs": [
    {
     "name": "stdout",
     "output_type": "stream",
     "text": [
      "0.805741983594\n",
      "14\n"
     ]
    }
   ],
   "source": [
    "## 50 Tree model\n",
    "start = datetime.now()\n",
    "modelrf100 = RandomForestClassifier(n_estimators=50, n_jobs=-1).fit(Xtr.toarray(), ytr)\n",
    "print(RandomForestClassifier(n_estimators=50, n_jobs=-1).fit(Xtr.toarray(), ytr)\\\n",
    "    .score(Xte.toarray(), yte))\n",
    "# modelrf100.fit(Xtr.toarray(), ytr)\n",
    "# print(modelrf100.score(Xte.toarray(), yte))\n",
    "print((datetime.now() - start).seconds)"
   ]
  },
  {
   "cell_type": "code",
   "execution_count": 91,
   "metadata": {},
   "outputs": [
    {
     "name": "stdout",
     "output_type": "stream",
     "text": [
      "0.805928411633\n",
      "35\n"
     ]
    }
   ],
   "source": [
    "### 250 Tree model\n",
    "start = datetime.now()\n",
    "modelrf250 = RandomForestClassifier(n_estimators=250, n_jobs=-1)\n",
    "modelrf250.fit(Xtr.toarray(), ytr)\n",
    "print(modelrf250.score(Xte.toarray(), yte))\n",
    "print((datetime.now() - start).seconds)"
   ]
  },
  {
   "cell_type": "code",
   "execution_count": 89,
   "metadata": {},
   "outputs": [
    {
     "name": "stdout",
     "output_type": "stream",
     "text": [
      "0.805741983594\n",
      "143\n"
     ]
    }
   ],
   "source": [
    "### 1000 Tree Model\n",
    "start = datetime.now()\n",
    "modelrf1k = RandomForestClassifier(n_estimators=1000, n_jobs=-1)\n",
    "modelrf1k.fit(Xtr.toarray(), ytr)\n",
    "print(modelrf1k.score(Xte.toarray(), yte))\n",
    "print((datetime.now() - start).seconds)"
   ]
  },
  {
   "cell_type": "markdown",
   "metadata": {},
   "source": [
    "### Test XGboost Model"
   ]
  },
  {
   "cell_type": "code",
   "execution_count": 66,
   "metadata": {
    "collapsed": true
   },
   "outputs": [],
   "source": [
    "import xgboost as xgb"
   ]
  },
  {
   "cell_type": "code",
   "execution_count": 67,
   "metadata": {},
   "outputs": [
    {
     "name": "stdout",
     "output_type": "stream",
     "text": [
      "0.897528631706\n",
      "35\n"
     ]
    }
   ],
   "source": [
    "### Test with max_depth of 3\n",
    "start = datetime.now()\n",
    "modelxg3 = xgb.XGBClassifier(max_depth=3, learning_rate=.05, n_estimators=250, n_jobs=-1)\n",
    "modelxg3.fit(Xtr.toarray(), ytr)\n",
    "print(modelxg3.score(Xte.toarray(), yte))\n",
    "print((datetime.now() - start).seconds)"
   ]
  },
  {
   "cell_type": "code",
   "execution_count": null,
   "metadata": {
    "collapsed": true
   },
   "outputs": [],
   "source": [
    "### Test with max_depth of 5\n",
    "start = datetime.now()\n",
    "modelxg5 = xgb.XGBClassifier(max_depth=10, learning_rate=.05, n_estimators=250, n_jobs=-1)\n",
    "modelxg5.fit(Xtr.toarray(), ytr)\n",
    "print(modelxg5.score(Xte.toarray(), yte))\n",
    "print((datetime.now() - start).seconds)"
   ]
  },
  {
   "cell_type": "code",
   "execution_count": null,
   "metadata": {
    "collapsed": true
   },
   "outputs": [],
   "source": [
    "### Test with max_depth of 15 and learning rate of .1\n",
    "start = datetime.now()\n",
    "modelxg_lr1 = xgb.XGBClassifier(max_depth=15, learning_rate=.1, n_estimators=250, n_jobs=-1)\n",
    "modelxg_lr1.fit(Xtr.toarray(), ytr)\n",
    "print(modelxg_lr1.score(Xte.toarray(), yte))\n",
    "print((datetime.now() - start).seconds)"
   ]
  },
  {
   "cell_type": "code",
   "execution_count": null,
   "metadata": {
    "collapsed": true
   },
   "outputs": [],
   "source": [
    "### Test with max_depth of 50 learning rate of .1 and 1000 Trees\n",
    "start = datetime.now()\n",
    "modelxg_t1000 = xgb.XGBClassifier(max_depth=50, learning_rate=.1, n_estimators=1000, n_jobs=-1)\n",
    "modelxg_t1000.fit(Xtr.toarray(), ytr)\n",
    "print(modelxg_t1000.score(Xte.toarray(), yte))\n",
    "print((datetime.now() - start).seconds)"
   ]
  },
  {
   "cell_type": "markdown",
   "metadata": {},
   "source": [
    "### Test GradientBoosted Decision Trees Model"
   ]
  },
  {
   "cell_type": "code",
   "execution_count": null,
   "metadata": {
    "collapsed": true
   },
   "outputs": [],
   "source": [
    "from sklearn.ensemble import GradientBoostingClassifier"
   ]
  },
  {
   "cell_type": "code",
   "execution_count": null,
   "metadata": {
    "collapsed": true
   },
   "outputs": [],
   "source": [
    "start = datetime.now()\n",
    "modelgbf_t250 = GradientBoostingClassifier(max_depth=5,\n",
    "                                           learning_rate=.1, \n",
    "                                           n_estimators=250)\n",
    "modelgbf_t250.fit(Xtr.toarray(), ytr)\n",
    "print(modelgbf_t250.score(Xte.toarray(), yte))\n",
    "print((datetime.now() - start).seconds)"
   ]
  },
  {
   "cell_type": "markdown",
   "metadata": {},
   "source": [
    "### Optimizing Document Frequency"
   ]
  },
  {
   "cell_type": "code",
   "execution_count": 116,
   "metadata": {
    "collapsed": true
   },
   "outputs": [],
   "source": [
    "reviews = ndf.description\n",
    "y = ndf[y_col] == 'pinot noir'\n",
    "\n",
    "swords = set(stopwords.words('english'))\n",
    "\n",
    "ps = PorterStemmer()\n",
    "\n",
    "word_vecs = reviews\\\n",
    "    .apply(lambda x: [re.sub(\"[\\W]\", '', i).lower().strip() for i in x.split()])\\\n",
    "    .apply(lambda x: [ps.stem(i) for i in x if i not in swords and len(i) > 3])\n",
    "\n",
    "back2sent = word_vecs.apply(lambda x: ' '.join(x))\n",
    "\n",
    "test_train = np.random.random(ndf.shape[0]) < .8\n",
    "ytr = y[test_train]\n",
    "yte = y[~test_train]"
   ]
  },
  {
   "cell_type": "code",
   "execution_count": 129,
   "metadata": {
    "collapsed": true
   },
   "outputs": [],
   "source": [
    "import time"
   ]
  },
  {
   "cell_type": "code",
   "execution_count": 130,
   "metadata": {
    "collapsed": true
   },
   "outputs": [],
   "source": [
    "start = datetime.now()\n",
    "time.sleep(5.210)\n",
    "delta = datetime.now() - start"
   ]
  },
  {
   "cell_type": "code",
   "execution_count": 132,
   "metadata": {},
   "outputs": [
    {
     "data": {
      "text/plain": [
       "5.215467"
      ]
     },
     "execution_count": 132,
     "metadata": {},
     "output_type": "execute_result"
    }
   ],
   "source": [
    "delta.total_seconds()"
   ]
  },
  {
   "cell_type": "code",
   "execution_count": 137,
   "metadata": {
    "collapsed": true
   },
   "outputs": [],
   "source": [
    "scores = {}\n",
    "\n",
    "mod_params = {'max_depth':10, 'learning_rate':.1, 'n_estimators' :50, 'n_jobs': -1}\n",
    "\n",
    "for i in np.linspace(.0005, .005, 20):\n",
    "    for n in range(1,4):\n",
    "        start = datetime.now()\n",
    "        tfidf = TfidfVectorizer(lowercase=False, min_df=i, ngram_range=(1,n))\\\n",
    "                .fit_transform(back2sent.values)\n",
    "        Xtr = tfidf[test_train]\n",
    "        Xte = tfidf[~test_train]\n",
    "        try: \n",
    "            scores[n].append((i, (datetime.now() - start).total_seconds(), Xtr.shape[1],\n",
    "                             xgb.XGBClassifier(**mod_params)\\\n",
    "                                .fit(Xtr.toarray(), ytr).score(Xte.toarray(), yte)))\n",
    "        except KeyError:\n",
    "            scores[n] = [(i, (datetime.now() - start).total_seconds(), \n",
    "                          xgb.XGBClassifier(**mod_params)\\\n",
    "                            .fit(Xtr.toarray(), ytr).score(Xte.toarray(), yte))]"
   ]
  },
  {
   "cell_type": "code",
   "execution_count": 148,
   "metadata": {
    "collapsed": true
   },
   "outputs": [],
   "source": [
    "scoresdf = {}\n",
    "for key in scores.keys():\n",
    "    scoresdf[key] = pd.DataFrame(scores[key])\n",
    "    scoresdf[key].columns = ['min_df', 'time_taken', 'score']"
   ]
  },
  {
   "cell_type": "code",
   "execution_count": 152,
   "metadata": {},
   "outputs": [
    {
     "data": {
      "text/plain": [
       "<matplotlib.legend.Legend at 0x12c422d68>"
      ]
     },
     "execution_count": 152,
     "metadata": {},
     "output_type": "execute_result"
    },
    {
     "data": {
      "image/png": "[encoded data removed]",
      "text/plain": [
       "<matplotlib.figure.Figure at 0x12c4229b0>"
      ]
     },
     "metadata": {},
     "output_type": "display_data"
    }
   ],
   "source": [
    "fig, ax = plt.subplots(1,1, figsize=(16,8))\n",
    "colors =[None, 'black', 'red', 'blue']\n",
    "for key, vals in scoresdf.items():\n",
    "    plt.plot(vals['min_df'], vals['score'], color=colors[key], label=key)\n",
    "plt.legend(fontsize=18)"
   ]
  },
  {
   "cell_type": "code",
   "execution_count": 154,
   "metadata": {
    "collapsed": true
   },
   "outputs": [],
   "source": [
    "scores = {}\n",
    "\n",
    "mod_params = {'max_depth':10, 'learning_rate':.1, 'n_estimators' :50, 'n_jobs': -1}\n",
    "\n",
    "for i in np.linspace(.003, .011, 8):\n",
    "    for n in range(1,4):\n",
    "        start = datetime.now()\n",
    "        tfidf = TfidfVectorizer(lowercase=False, min_df=i, ngram_range=(1,n))\\\n",
    "                .fit_transform(back2sent.values)\n",
    "        Xtr = tfidf[test_train]\n",
    "        Xte = tfidf[~test_train]\n",
    "        try: \n",
    "            scores[n].append((i, (datetime.now() - start).total_seconds(), Xtr.shape[1],\n",
    "                             xgb.XGBClassifier(**mod_params)\\\n",
    "                                .fit(Xtr.toarray(), ytr).score(Xte.toarray(), yte)))\n",
    "        except KeyError:\n",
    "            scores[n] = [(i, (datetime.now() - start).total_seconds(), \n",
    "                          xgb.XGBClassifier(**mod_params)\\\n",
    "                            .fit(Xtr.toarray(), ytr).score(Xte.toarray(), yte))]"
   ]
  },
  {
   "cell_type": "code",
   "execution_count": 164,
   "metadata": {
    "collapsed": true
   },
   "outputs": [],
   "source": [
    "scoresdf = {}\n",
    "for key in scores.keys():\n",
    "    scoresdf[key] = pd.DataFrame(scores[key])\n",
    "    scoresdf[key].columns = ['min_df', 'time_taken', 'num_cols', 'score']"
   ]
  },
  {
   "cell_type": "code",
   "execution_count": 169,
   "metadata": {},
   "outputs": [
    {
     "data": {
      "text/html": [
       "<div>\n",
       "<style>\n",
       "    .dataframe thead tr:only-child th {\n",
       "        text-align: right;\n",
       "    }\n",
       "\n",
       "    .dataframe thead th {\n",
       "        text-align: left;\n",
       "    }\n",
       "\n",
       "    .dataframe tbody tr th {\n",
       "        vertical-align: top;\n",
       "    }\n",
       "</style>\n",
       "<table border=\"1\" class=\"dataframe\">\n",
       "  <thead>\n",
       "    <tr style=\"text-align: right;\">\n",
       "      <th></th>\n",
       "      <th>min_df</th>\n",
       "      <th>time_taken</th>\n",
       "      <th>num_cols</th>\n",
       "      <th>score</th>\n",
       "    </tr>\n",
       "  </thead>\n",
       "  <tbody>\n",
       "    <tr>\n",
       "      <th>0</th>\n",
       "      <td>0.003000</td>\n",
       "      <td>0.624589</td>\n",
       "      <td>0.857418</td>\n",
       "      <td>NaN</td>\n",
       "    </tr>\n",
       "    <tr>\n",
       "      <th>1</th>\n",
       "      <td>0.004143</td>\n",
       "      <td>0.684931</td>\n",
       "      <td>838.000000</td>\n",
       "      <td>0.856648</td>\n",
       "    </tr>\n",
       "    <tr>\n",
       "      <th>2</th>\n",
       "      <td>0.005286</td>\n",
       "      <td>0.685596</td>\n",
       "      <td>688.000000</td>\n",
       "      <td>0.856071</td>\n",
       "    </tr>\n",
       "    <tr>\n",
       "      <th>3</th>\n",
       "      <td>0.006429</td>\n",
       "      <td>0.664706</td>\n",
       "      <td>593.000000</td>\n",
       "      <td>0.854724</td>\n",
       "    </tr>\n",
       "    <tr>\n",
       "      <th>4</th>\n",
       "      <td>0.007571</td>\n",
       "      <td>0.697727</td>\n",
       "      <td>527.000000</td>\n",
       "      <td>0.853377</td>\n",
       "    </tr>\n",
       "    <tr>\n",
       "      <th>5</th>\n",
       "      <td>0.008714</td>\n",
       "      <td>0.684950</td>\n",
       "      <td>456.000000</td>\n",
       "      <td>0.849721</td>\n",
       "    </tr>\n",
       "    <tr>\n",
       "      <th>6</th>\n",
       "      <td>0.009857</td>\n",
       "      <td>0.693704</td>\n",
       "      <td>408.000000</td>\n",
       "      <td>0.853569</td>\n",
       "    </tr>\n",
       "    <tr>\n",
       "      <th>7</th>\n",
       "      <td>0.011000</td>\n",
       "      <td>0.672942</td>\n",
       "      <td>381.000000</td>\n",
       "      <td>0.847604</td>\n",
       "    </tr>\n",
       "  </tbody>\n",
       "</table>\n",
       "</div>"
      ],
      "text/plain": [
       "     min_df  time_taken    num_cols     score\n",
       "0  0.003000    0.624589    0.857418       NaN\n",
       "1  0.004143    0.684931  838.000000  0.856648\n",
       "2  0.005286    0.685596  688.000000  0.856071\n",
       "3  0.006429    0.664706  593.000000  0.854724\n",
       "4  0.007571    0.697727  527.000000  0.853377\n",
       "5  0.008714    0.684950  456.000000  0.849721\n",
       "6  0.009857    0.693704  408.000000  0.853569\n",
       "7  0.011000    0.672942  381.000000  0.847604"
      ]
     },
     "execution_count": 169,
     "metadata": {},
     "output_type": "execute_result"
    }
   ],
   "source": [
    "scoresdf[1].head(20)"
   ]
  },
  {
   "cell_type": "markdown",
   "metadata": {},
   "source": [
    "#### Plot of Minimum Document Frequency vs Model Accuracy\n",
    "* Colors represent n-gram size"
   ]
  },
  {
   "cell_type": "code",
   "execution_count": 168,
   "metadata": {},
   "outputs": [
    {
     "data": {
      "text/plain": [
       "<matplotlib.legend.Legend at 0x11f0eefd0>"
      ]
     },
     "execution_count": 168,
     "metadata": {},
     "output_type": "execute_result"
    },
    {
     "data": {
      "image/png": "[encoded data removed]",
      "text/plain": [
       "<matplotlib.figure.Figure at 0x154d83c50>"
      ]
     },
     "metadata": {},
     "output_type": "display_data"
    }
   ],
   "source": [
    "fig, ax = plt.subplots(1,1, figsize=(16,8))\n",
    "colors =[None, 'black', 'red', 'blue']\n",
    "for key, vals in scoresdf.items():\n",
    "    plt.plot(vals['min_df'], vals['score'], color=colors[key], label=key)\n",
    "plt.legend(fontsize=18)"
   ]
  },
  {
   "cell_type": "markdown",
   "metadata": {},
   "source": [
    "### Number of Features"
   ]
  },
  {
   "cell_type": "code",
   "execution_count": 207,
   "metadata": {},
   "outputs": [],
   "source": [
    "feat_scores = {}\n",
    "\n",
    "mod_params = {'max_depth':10, 'learning_rate':.1, 'n_estimators' :50, 'n_jobs': -1}\n",
    "\n",
    "for i in np.logspace(4, 12, 32, base=2):\n",
    "    for n in range(1,4):\n",
    "        start = datetime.now()\n",
    "        tfidf = TfidfVectorizer(lowercase=False, max_df=.1, max_features=int(i), ngram_range=(1,n))\\\n",
    "                .fit_transform(back2sent.values)\n",
    "        Xtr = tfidf[test_train]\n",
    "        Xte = tfidf[~test_train]\n",
    "        try: \n",
    "            feat_scores[n].append((i, (datetime.now() - start).total_seconds(), Xtr.shape[1],\n",
    "                             xgb.XGBClassifier(**mod_params)\\\n",
    "                                .fit(Xtr.toarray(), ytr).score(Xte.toarray(), yte)))\n",
    "        except KeyError:\n",
    "            feat_scores[n] = [(i, (datetime.now() - start).total_seconds(), \n",
    "                          xgb.XGBClassifier(**mod_params)\\\n",
    "                            .fit(Xtr.toarray(), ytr).score(Xte.toarray(), yte))]"
   ]
  },
  {
   "cell_type": "markdown",
   "metadata": {},
   "source": [
    "#### Plot of number of total features vs Model accuracy\n",
    "* Colors represent max number of n-grams allowed"
   ]
  },
  {
   "cell_type": "code",
   "execution_count": 208,
   "metadata": {},
   "outputs": [
    {
     "data": {
      "text/plain": [
       "<matplotlib.legend.Legend at 0x13fd26b70>"
      ]
     },
     "execution_count": 208,
     "metadata": {},
     "output_type": "execute_result"
    },
    {
     "data": {
      "image/png": "[encoded data removed]",
      "text/plain": [
       "<matplotlib.figure.Figure at 0x13fd26390>"
      ]
     },
     "metadata": {},
     "output_type": "display_data"
    }
   ],
   "source": [
    "scoresdf_nfeats = {}\n",
    "for key in feat_scores.keys():\n",
    "    scoresdf_nfeats[key] = pd.DataFrame(feat_scores[key])\n",
    "    scoresdf_nfeats[key].columns = ['max_features', 'time_taken', 'num_cols', 'score']\n",
    "    \n",
    "fig, ax = plt.subplots(1,1, figsize=(16,8))\n",
    "colors =[None, 'black', 'red', 'blue']\n",
    "for key, vals in scoresdf_nfeats.items():\n",
    "    plt.plot(vals['max_features'], vals['score'], color=colors[key], label=key)\n",
    "plt.legend(fontsize=18)"
   ]
  },
  {
   "cell_type": "code",
   "execution_count": null,
   "metadata": {},
   "outputs": [],
   "source": [
    "print(scoresdf_nfeats[1]['time_taken']\n",
    "      + scoresdf_nfeats[2]['time_taken'] +\n",
    "      scoresdf_nfeats[3]['time_taken'])"
   ]
  },
  {
   "cell_type": "markdown",
   "metadata": {},
   "source": [
    "### Number of Trees"
   ]
  },
  {
   "cell_type": "code",
   "execution_count": 184,
   "metadata": {
    "collapsed": true
   },
   "outputs": [],
   "source": [
    "tree_scores = []\n",
    "\n",
    "\n",
    "tfidf = TfidfVectorizer(lowercase=False, min_df=.0098, ngram_range=(1,2))\\\n",
    "            .fit_transform(back2sent.values)\n",
    "Xtr = tfidf[test_train]\n",
    "Xte = tfidf[~test_train]\n",
    "\n",
    "mod_params = {'max_depth':10, 'learning_rate':.1, 'n_jobs': -1}\n",
    "\n",
    "for i in np.logspace(5, 12, 21, base=2):\n",
    "    mod_params['n_estimators'] = int(i)\n",
    "    start = datetime.now()\n",
    "    tree_scores.append((i, (datetime.now() - start).total_seconds(), Xtr.shape[1],\n",
    "                         xgb.XGBClassifier(**mod_params)\\\n",
    "                            .fit(Xtr.toarray(), ytr).score(Xte.toarray(), yte)))"
   ]
  },
  {
   "cell_type": "code",
   "execution_count": 204,
   "metadata": {},
   "outputs": [],
   "source": [
    "scoresdf = pd.DataFrame(tree_scores)\n",
    "scoresdf.columns = ['n_estimators', 'time_taken', 'num_cols', 'score']"
   ]
  },
  {
   "cell_type": "markdown",
   "metadata": {},
   "source": [
    "#### Plot of number of trees vs Model Accuracy"
   ]
  },
  {
   "cell_type": "code",
   "execution_count": 205,
   "metadata": {},
   "outputs": [
    {
     "data": {
      "text/plain": [
       "<matplotlib.axes._subplots.AxesSubplot at 0x154d56240>"
      ]
     },
     "execution_count": 205,
     "metadata": {},
     "output_type": "execute_result"
    },
    {
     "data": {
      "image/png": "[encoded data removed]",
      "text/plain": [
       "<matplotlib.figure.Figure at 0x1655bc6a0>"
      ]
     },
     "metadata": {},
     "output_type": "display_data"
    }
   ],
   "source": [
    "scoresdf.set_index('n_estimators')['score'].plot(figsize=(16,8))"
   ]
  },
  {
   "cell_type": "code",
   "execution_count": 187,
   "metadata": {},
   "outputs": [
    {
     "name": "stdout",
     "output_type": "stream",
     "text": [
      "0.00017200000000000003\n"
     ]
    }
   ],
   "source": [
    "print(scoresdf['time_taken'].sum())"
   ]
  },
  {
   "cell_type": "code",
   "execution_count": null,
   "metadata": {
    "collapsed": true
   },
   "outputs": [],
   "source": []
  },
  {
   "cell_type": "markdown",
   "metadata": {},
   "source": [
    "### Max Tree Depth"
   ]
  },
  {
   "cell_type": "code",
   "execution_count": 188,
   "metadata": {
    "collapsed": true
   },
   "outputs": [],
   "source": [
    "depth_scores = []\n",
    "\n",
    "\n",
    "tfidf = TfidfVectorizer(lowercase=False, min_df=.0098, ngram_range=(1,2))\\\n",
    "            .fit_transform(back2sent.values)\n",
    "Xtr = tfidf[test_train]\n",
    "Xte = tfidf[~test_train]\n",
    "\n",
    "mod_params = {'max_depth':10, 'learning_rate':.1, 'n_estimators' :50, 'n_jobs': -1}\n",
    "\n",
    "for i in np.arange(1, 20):\n",
    "    mod_params['max_depth'] = int(i)\n",
    "    start = datetime.now()\n",
    "    depth_scores.append((i, (datetime.now() - start).total_seconds(), Xtr.shape[1],\n",
    "                         xgb.XGBClassifier(**mod_params)\\\n",
    "                            .fit(Xtr.toarray(), ytr).score(Xte.toarray(), yte)))"
   ]
  },
  {
   "cell_type": "code",
   "execution_count": 190,
   "metadata": {},
   "outputs": [],
   "source": [
    "depthdf = pd.DataFrame(depth_scores)\n",
    "depthdf.columns = ['max_depth', 'time_taken', 'num_cols', 'score']"
   ]
  },
  {
   "cell_type": "code",
   "execution_count": 191,
   "metadata": {},
   "outputs": [
    {
     "data": {
      "text/plain": [
       "<matplotlib.axes._subplots.AxesSubplot at 0x152e8fcf8>"
      ]
     },
     "execution_count": 191,
     "metadata": {},
     "output_type": "execute_result"
    },
    {
     "data": {
      "image/png": "[encoded data removed]",
      "text/plain": [
       "<matplotlib.figure.Figure at 0x1536baac8>"
      ]
     },
     "metadata": {},
     "output_type": "display_data"
    }
   ],
   "source": [
    "depthdf.set_index('max_depth')['score'].plot(figsize=(16,8))"
   ]
  },
  {
   "cell_type": "code",
   "execution_count": 192,
   "metadata": {},
   "outputs": [
    {
     "name": "stdout",
     "output_type": "stream",
     "text": [
      "0.00015900000000000004\n"
     ]
    }
   ],
   "source": [
    "print(depthdf['time_taken'].sum())"
   ]
  },
  {
   "cell_type": "code",
   "execution_count": 193,
   "metadata": {
    "collapsed": true
   },
   "outputs": [],
   "source": [
    "# dense_matrix = pd.DataFrame(tf_idf_matrix.todense())\n",
    "\n",
    "# ## these may be in order of count, not the orde of the columns so this is were i messed up\n",
    "# dense_matrix.columns = [v for v in transform.vocabulary_.keys()]\n",
    "\n",
    "# dense_matrix.columns\n",
    "\n",
    "# dense_matrix.sample(10)\n",
    "\n",
    "# country_dm = dense_matrix.copy()\n",
    "\n",
    "# country_dm['y'] = df['country']"
   ]
  },
  {
   "cell_type": "code",
   "execution_count": 194,
   "metadata": {},
   "outputs": [
    {
     "name": "stdout",
     "output_type": "stream",
     "text": [
      "0\n"
     ]
    }
   ],
   "source": [
    "start = datetime.now()\n",
    "#process things\n",
    "print((datetime.now() - start).seconds)"
   ]
  },
  {
   "cell_type": "markdown",
   "metadata": {
    "collapsed": true
   },
   "source": [
    "### Learning Rate"
   ]
  },
  {
   "cell_type": "code",
   "execution_count": 200,
   "metadata": {
    "collapsed": true
   },
   "outputs": [],
   "source": [
    "lr_scores = []\n",
    "\n",
    "tfidf = TfidfVectorizer(lowercase=False, min_df=.0098, ngram_range=(1,2))\\\n",
    "            .fit_transform(back2sent.values)\n",
    "Xtr = tfidf[test_train]\n",
    "Xte = tfidf[~test_train]\n",
    "\n",
    "mod_params = {'max_depth':10, 'learning_rate':.1, 'n_estimators' :100, 'n_jobs': -1}\n",
    "\n",
    "for i in np.linspace(.01, .11, 10):\n",
    "    mod_params['learning_rate'] = i\n",
    "    start = datetime.now()\n",
    "    lr_scores.append((i, (datetime.now() - start).total_seconds(), Xtr.shape[1],\n",
    "                         xgb.XGBClassifier(**mod_params)\\\n",
    "                            .fit(Xtr.toarray(), ytr).score(Xte.toarray(), yte)))"
   ]
  },
  {
   "cell_type": "code",
   "execution_count": 201,
   "metadata": {},
   "outputs": [],
   "source": [
    "lr_scores_df = pd.DataFrame(lr_scores)\n",
    "lr_scores_df.columns = ['learn_rate', 'time_taken', 'num_cols', 'score']"
   ]
  },
  {
   "cell_type": "markdown",
   "metadata": {},
   "source": [
    "### Plot of Learning Rate vs model Accuracy with 100 trees max depth of 10"
   ]
  },
  {
   "cell_type": "code",
   "execution_count": 202,
   "metadata": {},
   "outputs": [
    {
     "data": {
      "text/plain": [
       "<matplotlib.axes._subplots.AxesSubplot at 0x12ba21588>"
      ]
     },
     "execution_count": 202,
     "metadata": {},
     "output_type": "execute_result"
    },
    {
     "data": {
      "image/png": "[encoded data removed]",
      "text/plain": [
       "<matplotlib.figure.Figure at 0x152e7cbe0>"
      ]
     },
     "metadata": {},
     "output_type": "display_data"
    }
   ],
   "source": [
    "lr_scores_df.set_index('learn_rate')['score'].plot(figsize=(16,8))"
   ]
  },
  {
   "cell_type": "code",
   "execution_count": 203,
   "metadata": {},
   "outputs": [
    {
     "name": "stdout",
     "output_type": "stream",
     "text": [
      "8.5e-05\n"
     ]
    }
   ],
   "source": [
    "print(lr_scores_df['time_taken'].sum())"
   ]
  },
  {
   "cell_type": "markdown",
   "metadata": {},
   "source": [
    "### Optimal model"
   ]
  },
  {
   "cell_type": "code",
   "execution_count": 229,
   "metadata": {
    "collapsed": true
   },
   "outputs": [],
   "source": [
    "label_map = {val: idx for idx, val in enumerate(ndf[y_col].unique())}\n",
    "y = df_noblends[y_col].replace(label_map).values"
   ]
  },
  {
   "cell_type": "code",
   "execution_count": 213,
   "metadata": {},
   "outputs": [
    {
     "name": "stdout",
     "output_type": "stream",
     "text": [
      "770\n"
     ]
    }
   ],
   "source": [
    "min_val = df_noblends['variety'].value_counts().tail(1).values[0]\n",
    "\n",
    "print(min_val)\n",
    "list_of_dfs = []\n",
    "for x in df_noblends[y_col].unique():\n",
    "    list_of_dfs.append(df_noblends[df_noblends[y_col] == x].sample(min_val))\n",
    "ndf_all = pd.concat(list_of_dfs)"
   ]
  },
  {
   "cell_type": "code",
   "execution_count": null,
   "metadata": {},
   "outputs": [],
   "source": [
    "ndf_all.shape"
   ]
  },
  {
   "cell_type": "code",
   "execution_count": 226,
   "metadata": {
    "collapsed": true
   },
   "outputs": [],
   "source": [
    "reviews = ndf.description\n",
    "swords = set(stopwords.words('english'))\n",
    "ps = PorterStemmer()\n",
    "\n",
    "word_vecs = reviews\\\n",
    "    .apply(lambda x: [re.sub(\"[\\W]\", '', i).lower().strip() for i in x.split()])\\\n",
    "    .apply(lambda x: [ps.stem(i) for i in x if i not in swords and len(i) > 3])"
   ]
  },
  {
   "cell_type": "code",
   "execution_count": 233,
   "metadata": {},
   "outputs": [],
   "source": [
    "back2sent = word_vecs.apply(lambda x: ' '.join(x))\n",
    "transform = TfidfVectorizer(lowercase=False, max_df=.1, max_features=2000, ngram_range=(1,3))\n",
    "tf_idf_matrix = transform.fit_transform(back2sent.values)"
   ]
  },
  {
   "cell_type": "code",
   "execution_count": null,
   "metadata": {
    "collapsed": true
   },
   "outputs": [],
   "source": [
    "tf_idf_matrix.toarray()[:1000:100]"
   ]
  },
  {
   "cell_type": "code",
   "execution_count": 235,
   "metadata": {},
   "outputs": [
    {
     "name": "stderr",
     "output_type": "stream",
     "text": [
      "/Users/travis/anaconda/lib/python3.6/site-packages/ipykernel_launcher.py:11: VisibleDeprecationWarning: boolean index did not match indexed array along dimension 0; dimension is 67944 but corresponding boolean dimension is 26544\n",
      "  # This is added back by InteractiveShellApp.init_path()\n",
      "/Users/travis/anaconda/lib/python3.6/site-packages/ipykernel_launcher.py:12: VisibleDeprecationWarning: boolean index did not match indexed array along dimension 0; dimension is 67944 but corresponding boolean dimension is 26544\n",
      "  if sys.path[0] == '':\n"
     ]
    }
   ],
   "source": [
    "## Generate Cross validation set\n",
    "rand_vals = np.random.random(word_vecs.shape[0])\n",
    "\n",
    "cv_set = []\n",
    "k= 5\n",
    "\n",
    "for val in np.linspace(0,1-1/k,k):\n",
    "    test_train = ((rand_vals <= val) | (rand_vals > val + 1.0/k))\n",
    "    cv_set.append({'Xtr': tf_idf_matrix[test_train],\n",
    "                    'Xte': tf_idf_matrix[~test_train],\n",
    "                    'ytr': y[test_train],\n",
    "                    'yte': y[~test_train]\n",
    "                  })"
   ]
  },
  {
   "cell_type": "code",
   "execution_count": null,
   "metadata": {
    "collapsed": true
   },
   "outputs": [],
   "source": [
    "## Check Identified Optimal model parameters on Cross-validated set (k= 5)\n",
    "mod_params = {'max_depth':25, 'learning_rate':.1, 'n_estimators' :3000, 'n_jobs': -1}\n",
    "cv_scores = []\n",
    "\n",
    "for tt_set in cv_set:\n",
    "    cv_scores.append(xgb.XGBClassifier(**mod_params)\\\n",
    "                        .fit(tt_set['Xtr'].toarray(), tt_set['ytr'])\\\n",
    "                        .score(tt_set['Xte'].toarray(), tt_set['yte']))"
   ]
  },
  {
   "cell_type": "code",
   "execution_count": null,
   "metadata": {
    "collapsed": true
   },
   "outputs": [],
   "source": [
    "print(np.array(cv_scores).mean())"
   ]
  }
 ],
 "metadata": {
  "kernelspec": {
   "display_name": "Python 3",
   "language": "python",
   "name": "python3"
  }
 },
 "nbformat": 4,
 "nbformat_minor": 2
}

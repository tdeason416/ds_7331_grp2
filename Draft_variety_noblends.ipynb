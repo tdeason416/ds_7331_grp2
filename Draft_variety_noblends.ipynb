{
 "cells": [
  {
   "cell_type": "code",
   "execution_count": 2,
   "metadata": {
    "collapsed": true
   },
   "outputs": [],
   "source": [
    "import pandas as pd\n",
    "import numpy as np\n",
    "import re\n",
    "import matplotlib.pyplot as plt\n",
    "from nltk.stem import *\n",
    "from sklearn.feature_extraction.text import TfidfVectorizer\n",
    "from datetime import datetime, timedelta, date\n",
    "%matplotlib inline\n",
    "plt.style.use('ggplot')\n",
    "\n",
    "import nltk\n",
    "import string\n",
    "\n",
    "from nltk.corpus import stopwords\n",
    "pstemmer = nltk.PorterStemmer()"
   ]
  },
  {
   "cell_type": "code",
   "execution_count": 62,
   "metadata": {
    "collapsed": true
   },
   "outputs": [],
   "source": [
    "y_col = 'variety_cleaned'"
   ]
  },
  {
   "cell_type": "code",
   "execution_count": 4,
   "metadata": {
    "collapsed": true
   },
   "outputs": [],
   "source": [
    "df = pd.read_csv('data/winemag-data-130k-v2.csv')"
   ]
  },
  {
   "cell_type": "code",
   "execution_count": 5,
   "metadata": {},
   "outputs": [
    {
     "data": {
      "text/html": [
       "<div>\n",
       "<style>\n",
       "    .dataframe thead tr:only-child th {\n",
       "        text-align: right;\n",
       "    }\n",
       "\n",
       "    .dataframe thead th {\n",
       "        text-align: left;\n",
       "    }\n",
       "\n",
       "    .dataframe tbody tr th {\n",
       "        vertical-align: top;\n",
       "    }\n",
       "</style>\n",
       "<table border=\"1\" class=\"dataframe\">\n",
       "  <thead>\n",
       "    <tr style=\"text-align: right;\">\n",
       "      <th></th>\n",
       "      <th>Unnamed: 0</th>\n",
       "      <th>country</th>\n",
       "      <th>description</th>\n",
       "      <th>designation</th>\n",
       "      <th>points</th>\n",
       "      <th>price</th>\n",
       "      <th>province</th>\n",
       "      <th>region_1</th>\n",
       "      <th>region_2</th>\n",
       "      <th>taster_name</th>\n",
       "      <th>taster_twitter_handle</th>\n",
       "      <th>title</th>\n",
       "      <th>variety</th>\n",
       "      <th>winery</th>\n",
       "    </tr>\n",
       "  </thead>\n",
       "  <tbody>\n",
       "    <tr>\n",
       "      <th>11883</th>\n",
       "      <td>11883</td>\n",
       "      <td>Italy</td>\n",
       "      <td>Mature plum, nutmeg, new leather and thyme aro...</td>\n",
       "      <td>Dal Re</td>\n",
       "      <td>90</td>\n",
       "      <td>23.0</td>\n",
       "      <td>Southern Italy</td>\n",
       "      <td>Irpinia</td>\n",
       "      <td>NaN</td>\n",
       "      <td>Kerin O’Keefe</td>\n",
       "      <td>@kerinokeefe</td>\n",
       "      <td>Feudi di San Gregorio 2015 Dal Re Aglianico (I...</td>\n",
       "      <td>Aglianico</td>\n",
       "      <td>Feudi di San Gregorio</td>\n",
       "    </tr>\n",
       "    <tr>\n",
       "      <th>16197</th>\n",
       "      <td>16197</td>\n",
       "      <td>Argentina</td>\n",
       "      <td>The nose offers both minerally crispness and f...</td>\n",
       "      <td>NaN</td>\n",
       "      <td>90</td>\n",
       "      <td>22.0</td>\n",
       "      <td>Mendoza Province</td>\n",
       "      <td>Perdriel</td>\n",
       "      <td>NaN</td>\n",
       "      <td>Michael Schachner</td>\n",
       "      <td>@wineschach</td>\n",
       "      <td>Marchiori &amp; Barraud 2012 Malbec (Perdriel)</td>\n",
       "      <td>Malbec</td>\n",
       "      <td>Marchiori &amp; Barraud</td>\n",
       "    </tr>\n",
       "    <tr>\n",
       "      <th>98385</th>\n",
       "      <td>98385</td>\n",
       "      <td>Austria</td>\n",
       "      <td>Ripe top notes of apricot and peach seduce rig...</td>\n",
       "      <td>Achleiten Smaragd</td>\n",
       "      <td>95</td>\n",
       "      <td>49.0</td>\n",
       "      <td>Wachau</td>\n",
       "      <td>NaN</td>\n",
       "      <td>NaN</td>\n",
       "      <td>Anne Krebiehl MW</td>\n",
       "      <td>@AnneInVino</td>\n",
       "      <td>Domäne Wachau 2013 Achleiten Smaragd Riesling ...</td>\n",
       "      <td>Riesling</td>\n",
       "      <td>Domäne Wachau</td>\n",
       "    </tr>\n",
       "    <tr>\n",
       "      <th>34837</th>\n",
       "      <td>34837</td>\n",
       "      <td>France</td>\n",
       "      <td>Vines on the slope of the Brouilly hill give a...</td>\n",
       "      <td>Les Cailloux</td>\n",
       "      <td>89</td>\n",
       "      <td>22.0</td>\n",
       "      <td>Beaujolais</td>\n",
       "      <td>Côte de Brouilly</td>\n",
       "      <td>NaN</td>\n",
       "      <td>Roger Voss</td>\n",
       "      <td>@vossroger</td>\n",
       "      <td>Emmanuel Fellot 2014 Les Cailloux  (Côte de Br...</td>\n",
       "      <td>Gamay</td>\n",
       "      <td>Emmanuel Fellot</td>\n",
       "    </tr>\n",
       "    <tr>\n",
       "      <th>59648</th>\n",
       "      <td>59648</td>\n",
       "      <td>New Zealand</td>\n",
       "      <td>This boasts typical Marlborough characters of ...</td>\n",
       "      <td>NaN</td>\n",
       "      <td>85</td>\n",
       "      <td>15.0</td>\n",
       "      <td>Marlborough</td>\n",
       "      <td>NaN</td>\n",
       "      <td>NaN</td>\n",
       "      <td>Joe Czerwinski</td>\n",
       "      <td>@JoeCz</td>\n",
       "      <td>Dashwood 2013 Sauvignon Blanc (Marlborough)</td>\n",
       "      <td>Sauvignon Blanc</td>\n",
       "      <td>Dashwood</td>\n",
       "    </tr>\n",
       "  </tbody>\n",
       "</table>\n",
       "</div>"
      ],
      "text/plain": [
       "       Unnamed: 0      country  \\\n",
       "11883       11883        Italy   \n",
       "16197       16197    Argentina   \n",
       "98385       98385      Austria   \n",
       "34837       34837       France   \n",
       "59648       59648  New Zealand   \n",
       "\n",
       "                                             description        designation  \\\n",
       "11883  Mature plum, nutmeg, new leather and thyme aro...             Dal Re   \n",
       "16197  The nose offers both minerally crispness and f...                NaN   \n",
       "98385  Ripe top notes of apricot and peach seduce rig...  Achleiten Smaragd   \n",
       "34837  Vines on the slope of the Brouilly hill give a...       Les Cailloux   \n",
       "59648  This boasts typical Marlborough characters of ...                NaN   \n",
       "\n",
       "       points  price          province          region_1 region_2  \\\n",
       "11883      90   23.0    Southern Italy           Irpinia      NaN   \n",
       "16197      90   22.0  Mendoza Province          Perdriel      NaN   \n",
       "98385      95   49.0            Wachau               NaN      NaN   \n",
       "34837      89   22.0        Beaujolais  Côte de Brouilly      NaN   \n",
       "59648      85   15.0       Marlborough               NaN      NaN   \n",
       "\n",
       "             taster_name taster_twitter_handle  \\\n",
       "11883      Kerin O’Keefe          @kerinokeefe   \n",
       "16197  Michael Schachner           @wineschach   \n",
       "98385   Anne Krebiehl MW           @AnneInVino   \n",
       "34837         Roger Voss            @vossroger   \n",
       "59648     Joe Czerwinski                @JoeCz   \n",
       "\n",
       "                                                   title          variety  \\\n",
       "11883  Feudi di San Gregorio 2015 Dal Re Aglianico (I...        Aglianico   \n",
       "16197         Marchiori & Barraud 2012 Malbec (Perdriel)           Malbec   \n",
       "98385  Domäne Wachau 2013 Achleiten Smaragd Riesling ...         Riesling   \n",
       "34837  Emmanuel Fellot 2014 Les Cailloux  (Côte de Br...            Gamay   \n",
       "59648        Dashwood 2013 Sauvignon Blanc (Marlborough)  Sauvignon Blanc   \n",
       "\n",
       "                      winery  \n",
       "11883  Feudi di San Gregorio  \n",
       "16197    Marchiori & Barraud  \n",
       "98385          Domäne Wachau  \n",
       "34837        Emmanuel Fellot  \n",
       "59648               Dashwood  "
      ]
     },
     "execution_count": 5,
     "metadata": {},
     "output_type": "execute_result"
    }
   ],
   "source": [
    "df.sample(5)"
   ]
  },
  {
   "cell_type": "code",
   "execution_count": 6,
   "metadata": {
    "collapsed": true
   },
   "outputs": [],
   "source": [
    "repl_dir = {'petite sirah': 'syrah', \n",
    "            'shiraz': 'syrah', \n",
    "            'champagne' :'sparkling',\n",
    "           }"
   ]
  },
  {
   "cell_type": "code",
   "execution_count": 10,
   "metadata": {},
   "outputs": [],
   "source": [
    "df_nona = df.fillna('NA')"
   ]
  },
  {
   "cell_type": "code",
   "execution_count": 50,
   "metadata": {},
   "outputs": [],
   "source": [
    "no_hyph = df_nona[df_nona['variety'].apply(lambda x: len(x.split('-')) < 2)]['variety'].str.lower()\n",
    "no_hyph = no_hyph[no_hyph.apply(lambda x: x.split()[-1] != 'blend')].replace(repl_dir)"
   ]
  },
  {
   "cell_type": "code",
   "execution_count": 52,
   "metadata": {},
   "outputs": [
    {
     "data": {
      "text/plain": [
       "pinot noir            0.129946\n",
       "chardonnay            0.115073\n",
       "cabernet sauvignon    0.092740\n",
       "syrah                 0.056278\n",
       "riesling              0.050805\n",
       "sauvignon blanc       0.048632\n",
       "rosé                  0.034895\n",
       "merlot                0.030372\n",
       "nebbiolo              0.027454\n",
       "zinfandel             0.026573\n",
       "sangiovese            0.026504\n",
       "malbec                0.025966\n",
       "portuguese red        0.024145\n",
       "tempranillo           0.017722\n",
       "pinot gris            0.014246\n",
       "cabernet franc        0.013247\n",
       "grüner veltliner      0.013169\n",
       "portuguese white      0.011348\n",
       "pinot grigio          0.010300\n",
       "gamay                 0.010036\n",
       "Name: variety, dtype: float64"
      ]
     },
     "execution_count": 52,
     "metadata": {},
     "output_type": "execute_result"
    }
   ],
   "source": [
    "no_hyph.value_counts(1).head(20)"
   ]
  },
  {
   "cell_type": "code",
   "execution_count": 53,
   "metadata": {},
   "outputs": [],
   "source": [
    "keep_vars = set(no_hyph.value_counts().head(16).index)"
   ]
  },
  {
   "cell_type": "code",
   "execution_count": 63,
   "metadata": {},
   "outputs": [],
   "source": [
    "df[y_col] = df['variety'].replace(repl_dir)\n",
    "df_noblends = df[df[y_col].replace(repl_dir).str.lower().isin(keep_vars)]"
   ]
  },
  {
   "cell_type": "code",
   "execution_count": 64,
   "metadata": {},
   "outputs": [
    {
     "data": {
      "text/plain": [
       "16"
      ]
     },
     "execution_count": 64,
     "metadata": {},
     "output_type": "execute_result"
    }
   ],
   "source": [
    "df_noblends[y_col].unique().size"
   ]
  },
  {
   "cell_type": "code",
   "execution_count": 65,
   "metadata": {},
   "outputs": [
    {
     "data": {
      "image/png": "[encoded data removed]",
      "text/plain": [
       "<matplotlib.figure.Figure at 0x10ae85ef0>"
      ]
     },
     "metadata": {},
     "output_type": "display_data"
    }
   ],
   "source": [
    "intr = df[y_col].value_counts(1).head(50)\n",
    "plot = intr.plot(kind='bar', figsize=(16,8));\n",
    "plot.set_xticklabels(intr.index, {'rotation' : 90});"
   ]
  },
  {
   "cell_type": "code",
   "execution_count": 66,
   "metadata": {},
   "outputs": [
    {
     "data": {
      "image/png": "[encoded data removed]",
      "text/plain": [
       "<matplotlib.figure.Figure at 0x11431cb00>"
      ]
     },
     "metadata": {},
     "output_type": "display_data"
    }
   ],
   "source": [
    "intr = df_noblends[y_col].value_counts(1)\n",
    "plot = intr.plot(kind='bar', figsize=(16,8));\n",
    "plot.set_xticklabels(intr.index, {'rotation' : 90});"
   ]
  },
  {
   "cell_type": "code",
   "execution_count": 67,
   "metadata": {},
   "outputs": [
    {
     "data": {
      "text/plain": [
       "array([ \"This wine's aromas of baked apple, honey, cinnamon and brown sugar are immediately attractive, and in the mouth it doesn't disappoint. It's broad and mouthfilling but avoids heaviness, finishing long, with hints of orange rind.\",\n",
       "       'One of the best Napa Cabernet Francs in memory, this shows lush, concentrated flavors of cherry pie, red currant, mocha, anise and smoky, spicy sandalwood that are wrapped into firm but exceptionally refined tannins. Drink now to experience the youthful beauty.',\n",
       "       'Le Grillaie offers easy fruit tones of cherry and blackberry with touches of cola and licorice at the back. This simple red white would pair well with a heaping plate of pasta and meat sauce.',\n",
       "       'The main estate wine from Roubine is a rich, ripe and fruity with a light edge of spice. It has a soft character, the result of the malolactic fermentation reducing the acidity. That gives a great balance between the red fruits and tangy zesty aftertaste. Drink now.',\n",
       "       'Just a tad honeyed, but crisp acidity helps to provide balance. The apricot, tangerine, lime and vanilla flavors are easy to like.'], dtype=object)"
      ]
     },
     "execution_count": 67,
     "metadata": {},
     "output_type": "execute_result"
    }
   ],
   "source": [
    "df_noblends.description.sample(5).values"
   ]
  },
  {
   "cell_type": "code",
   "execution_count": 68,
   "metadata": {},
   "outputs": [],
   "source": [
    "# for i in df[df['variety'] == 'Nebbiolo']['description'].sample(50).values:\n",
    "#     print(i)"
   ]
  },
  {
   "cell_type": "code",
   "execution_count": 76,
   "metadata": {
    "collapsed": true
   },
   "outputs": [],
   "source": [
    "### Take least represented of all values and take a sample of that size from the each group\n",
    "\n",
    "min_val = df_noblends['variety'].value_counts().tail(1).values[0]\n",
    "\n",
    "print(min_val)\n",
    "list_of_dfs = []\n",
    "for x in df_noblends[y_col].unique():\n",
    "    list_of_dfs.append(df_noblends[df_noblends[y_col] == x].sample(min_val))\n",
    "ndf = pd.concat(list_of_dfs)"
   ]
  },
  {
   "cell_type": "code",
   "execution_count": 82,
   "metadata": {},
   "outputs": [
    {
     "data": {
      "text/plain": [
       "(21648, 16)"
      ]
     },
     "execution_count": 82,
     "metadata": {},
     "output_type": "execute_result"
    }
   ],
   "source": [
    "ndf.shape"
   ]
  },
  {
   "cell_type": "code",
   "execution_count": 83,
   "metadata": {
    "collapsed": true
   },
   "outputs": [],
   "source": [
    "# df_nona = df[df[y_col].fillna('N') != 'N']\n",
    "classif_varieties = set(ndf[y_col].unique())"
   ]
  },
  {
   "cell_type": "code",
   "execution_count": 85,
   "metadata": {
    "collapsed": true
   },
   "outputs": [],
   "source": [
    "label_map = {val: idx for idx, val in enumerate(ndf[y_col].unique())}"
   ]
  },
  {
   "cell_type": "code",
   "execution_count": 86,
   "metadata": {},
   "outputs": [
    {
     "data": {
      "text/plain": [
       "{'Cabernet Franc': 10,\n",
       " 'Cabernet Sauvignon': 4,\n",
       " 'Chardonnay': 5,\n",
       " 'Malbec': 6,\n",
       " 'Merlot': 7,\n",
       " 'Nebbiolo': 14,\n",
       " 'Pinot Gris': 1,\n",
       " 'Pinot Noir': 3,\n",
       " 'Portuguese Red': 0,\n",
       " 'Riesling': 2,\n",
       " 'Rosé': 11,\n",
       " 'Sangiovese': 9,\n",
       " 'Sauvignon Blanc': 8,\n",
       " 'Syrah': 13,\n",
       " 'Tempranillo': 15,\n",
       " 'Zinfandel': 12}"
      ]
     },
     "execution_count": 86,
     "metadata": {},
     "output_type": "execute_result"
    }
   ],
   "source": [
    "label_map"
   ]
  },
  {
   "cell_type": "code",
   "execution_count": 132,
   "metadata": {
    "collapsed": true
   },
   "outputs": [],
   "source": [
    "y = ndf[y_col].replace(label_map).values"
   ]
  },
  {
   "cell_type": "code",
   "execution_count": 133,
   "metadata": {
    "collapsed": true
   },
   "outputs": [],
   "source": [
    "reviews = ndf.description"
   ]
  },
  {
   "cell_type": "code",
   "execution_count": 134,
   "metadata": {
    "collapsed": true
   },
   "outputs": [],
   "source": [
    "swords = set(stopwords.words('english'))"
   ]
  },
  {
   "cell_type": "code",
   "execution_count": 135,
   "metadata": {
    "collapsed": true
   },
   "outputs": [],
   "source": [
    "ps = PorterStemmer()"
   ]
  },
  {
   "cell_type": "code",
   "execution_count": 136,
   "metadata": {
    "collapsed": true
   },
   "outputs": [],
   "source": [
    "word_vecs = reviews\\\n",
    "    .apply(lambda x: [re.sub(\"[\\W]\", '', i).lower().strip() for i in x.split()])\\\n",
    "    .apply(lambda x: [ps.stem(i) for i in x if i not in swords and len(i) > 3])"
   ]
  },
  {
   "cell_type": "code",
   "execution_count": 137,
   "metadata": {},
   "outputs": [
    {
     "data": {
      "text/plain": [
       "108799    [chilli, 2011, vintag, kind, duttongoldfield, ...\n",
       "129612    [foxi, jumpi, nose, candi, redberri, cherri, a...\n",
       "47869     [dens, rich, ripe, tannic, structur, less, sal...\n",
       "55575     [concentr, reduc, aroma, chocol, saucedrizzl, ...\n",
       "52985     [love, syrah, mediumbodi, light, feel, velveti...\n",
       "108248    [aroma, dark, plum, thistl, earth, captiv, sen...\n",
       "82688     [good, good, wine, medicin, nose, take, aromat...\n",
       "65587     [aroma, flower, graphit, licoric, highton, her...\n",
       "111863    [usual, wine, offer, solid, berri, fruit, arom...\n",
       "129324    [almost, pale, color, rosé, pinot, light, silk...\n",
       "Name: description, dtype: object"
      ]
     },
     "execution_count": 137,
     "metadata": {},
     "output_type": "execute_result"
    }
   ],
   "source": [
    "word_vecs.sample(10)"
   ]
  },
  {
   "cell_type": "code",
   "execution_count": 138,
   "metadata": {
    "collapsed": true
   },
   "outputs": [],
   "source": [
    "back2sent = word_vecs.apply(lambda x: ' '.join(x))"
   ]
  },
  {
   "cell_type": "code",
   "execution_count": 139,
   "metadata": {
    "collapsed": true
   },
   "outputs": [],
   "source": [
    "transform = TfidfVectorizer(lowercase=False, min_df=.05)"
   ]
  },
  {
   "cell_type": "code",
   "execution_count": 140,
   "metadata": {
    "collapsed": true
   },
   "outputs": [],
   "source": [
    "tf_idf_matrix = transform.fit_transform(back2sent.values)"
   ]
  },
  {
   "cell_type": "code",
   "execution_count": 141,
   "metadata": {
    "collapsed": true
   },
   "outputs": [],
   "source": [
    "## build train_test_split\n",
    "test_train = np.random.random(word_vecs.shape[0]) < .8\n",
    "Xtr = tf_idf_matrix[test_train]\n",
    "Xte = tf_idf_matrix[~test_train]\n",
    "ytr = y[test_train]\n",
    "yte = y[~test_train]"
   ]
  },
  {
   "cell_type": "code",
   "execution_count": 142,
   "metadata": {
    "collapsed": true
   },
   "outputs": [],
   "source": [
    "from sklearn.naive_bayes import GaussianNB"
   ]
  },
  {
   "cell_type": "code",
   "execution_count": 143,
   "metadata": {},
   "outputs": [
    {
     "name": "stdout",
     "output_type": "stream",
     "text": [
      "0.280697830463\n",
      "0\n"
     ]
    }
   ],
   "source": [
    "start = datetime.now()\n",
    "modelgb = GaussianNB()\n",
    "modelgb.fit(Xtr.toarray(), ytr)\n",
    "print(modelgb.score(Xte.toarray(), yte))\n",
    "print((datetime.now() - start).seconds)"
   ]
  },
  {
   "cell_type": "code",
   "execution_count": 144,
   "metadata": {
    "collapsed": true
   },
   "outputs": [],
   "source": [
    "from sklearn.svm import SVC"
   ]
  },
  {
   "cell_type": "code",
   "execution_count": 145,
   "metadata": {},
   "outputs": [
    {
     "name": "stdout",
     "output_type": "stream",
     "text": [
      "0.415566987251\n",
      "38\n"
     ]
    }
   ],
   "source": [
    "start = datetime.now()\n",
    "model_svm = SVC(C=1.0, kernel='rbf', degree=3, gamma=.05)\n",
    "model_svm.fit(Xtr.toarray(), ytr)\n",
    "print( model_svm.score(Xte.toarray(), yte))\n",
    "print((datetime.now()-start).seconds)"
   ]
  },
  {
   "cell_type": "code",
   "execution_count": 146,
   "metadata": {
    "collapsed": true
   },
   "outputs": [],
   "source": [
    "from sklearn.ensemble import RandomForestClassifier"
   ]
  },
  {
   "cell_type": "code",
   "execution_count": 147,
   "metadata": {},
   "outputs": [
    {
     "name": "stdout",
     "output_type": "stream",
     "text": [
      "0.447774547081\n",
      "13\n"
     ]
    }
   ],
   "source": [
    "start = datetime.now()\n",
    "modelrf = RandomForestClassifier(n_estimators=1000, n_jobs=-1)\n",
    "modelrf.fit(Xtr.toarray(), ytr)\n",
    "print(modelrf.score(Xte.toarray(), yte))\n",
    "print((datetime.now() - start).seconds)"
   ]
  },
  {
   "cell_type": "code",
   "execution_count": 148,
   "metadata": {
    "collapsed": true
   },
   "outputs": [],
   "source": [
    "## run this line if needed xgboost is not a part of Sklearn\n",
    "## we could also use GradientBoostingClassifier, but since it does not support \n",
    "## parallel processing, and XGboost typically gives near the same performance\n",
    "## we will use XGboost\n",
    "#!pip install xgboost"
   ]
  },
  {
   "cell_type": "code",
   "execution_count": 149,
   "metadata": {
    "collapsed": true
   },
   "outputs": [],
   "source": [
    "import xgboost as xgb"
   ]
  },
  {
   "cell_type": "code",
   "execution_count": 150,
   "metadata": {},
   "outputs": [
    {
     "name": "stdout",
     "output_type": "stream",
     "text": [
      "0.411317378662\n",
      "36\n"
     ]
    }
   ],
   "source": [
    "start = datetime.now()\n",
    "modelxg3 = xgb.XGBClassifier(max_depth=3, learning_rate=.05, n_estimators=250, n_jobs=-1)\n",
    "modelxg3.fit(Xtr.toarray(), ytr)\n",
    "print(modelxg3.score(Xte.toarray(), yte))\n",
    "print((datetime.now() - start).seconds)"
   ]
  },
  {
   "cell_type": "code",
   "execution_count": 151,
   "metadata": {},
   "outputs": [
    {
     "name": "stdout",
     "output_type": "stream",
     "text": [
      "0.429434131067\n",
      "63\n"
     ]
    }
   ],
   "source": [
    "start = datetime.now()\n",
    "modelxg5 = xgb.XGBClassifier(max_depth=5, learning_rate=.05, n_estimators=250, n_jobs=-1)\n",
    "modelxg5.fit(Xtr.toarray(), ytr)\n",
    "print(modelxg5.score(Xte.toarray(), yte))\n",
    "print((datetime.now() - start).seconds)"
   ]
  },
  {
   "cell_type": "code",
   "execution_count": 152,
   "metadata": {},
   "outputs": [
    {
     "name": "stdout",
     "output_type": "stream",
     "text": [
      "0.435920375755\n",
      "61\n"
     ]
    }
   ],
   "source": [
    "start = datetime.now()\n",
    "modelxg_lr1 = xgb.XGBClassifier(max_depth=5, learning_rate=.1, n_estimators=250, n_jobs=-1)\n",
    "modelxg_lr1.fit(Xtr.toarray(), ytr)\n",
    "print(modelxg_lr1.score(Xte.toarray(), yte))\n",
    "print((datetime.now() - start).seconds)"
   ]
  },
  {
   "cell_type": "code",
   "execution_count": 153,
   "metadata": {},
   "outputs": [
    {
     "name": "stdout",
     "output_type": "stream",
     "text": [
      "0.435920375755\n",
      "62\n"
     ]
    }
   ],
   "source": [
    "start = datetime.now()\n",
    "modelxg_t1000 = xgb.XGBClassifier(max_depth=5, learning_rate=.1, n_estimators=250, n_jobs=-1)\n",
    "modelxg_t1000.fit(Xtr.toarray(), ytr)\n",
    "print(modelxg_t1000.score(Xte.toarray(), yte))\n",
    "print((datetime.now() - start).seconds)"
   ]
  },
  {
   "cell_type": "code",
   "execution_count": 127,
   "metadata": {
    "collapsed": true
   },
   "outputs": [],
   "source": [
    "# dense_matrix = pd.DataFrame(tf_idf_matrix.todense())\n",
    "\n",
    "# ## these may be in order of count, not the orde of the columns so this is were i messed up\n",
    "# dense_matrix.columns = [v for v in transform.vocabulary_.keys()]\n",
    "\n",
    "# dense_matrix.columns\n",
    "\n",
    "# dense_matrix.sample(10)\n",
    "\n",
    "# country_dm = dense_matrix.copy()\n",
    "\n",
    "# country_dm['y'] = df['country']"
   ]
  },
  {
   "cell_type": "code",
   "execution_count": 128,
   "metadata": {},
   "outputs": [
    {
     "name": "stdout",
     "output_type": "stream",
     "text": [
      "0\n"
     ]
    }
   ],
   "source": [
    "start = datetime.now()\n",
    "#process things\n",
    "print((datetime.now() - start).seconds)"
   ]
  },
  {
   "cell_type": "code",
   "execution_count": null,
   "metadata": {
    "collapsed": true
   },
   "outputs": [],
   "source": []
  }
 ],
 "metadata": {
  "kernelspec": {
   "display_name": "Python 3",
   "language": "python",
   "name": "python3"
  },
  "language_info": {
   "codemirror_mode": {
    "name": "ipython",
    "version": 3
   },
   "file_extension": ".py",
   "mimetype": "text/x-python",
   "name": "python",
   "nbconvert_exporter": "python",
   "pygments_lexer": "ipython3",
   "version": "3.6.1"
  }
 },
 "nbformat": 4,
 "nbformat_minor": 2
}

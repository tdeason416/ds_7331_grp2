{
 "cells": [
  {
   "cell_type": "code",
   "execution_count": 2,
   "metadata": {
    "collapsed": true
   },
   "outputs": [],
   "source": [
    "import pandas as pd\n",
    "import numpy as np\n",
    "import re\n",
    "import matplotlib.pyplot as plt\n",
    "from nltk.stem import *\n",
    "from sklearn.feature_extraction.text import TfidfVectorizer\n",
    "from datetime import datetime, timedelta, date\n",
    "%matplotlib inline\n",
    "plt.style.use('ggplot')\n",
    "\n",
    "import nltk\n",
    "import string\n",
    "\n",
    "from nltk.corpus import stopwords\n",
    "pstemmer = nltk.PorterStemmer()"
   ]
  },
  {
   "cell_type": "code",
   "execution_count": 95,
   "metadata": {
    "collapsed": true
   },
   "outputs": [],
   "source": [
    "y_col = 'variety_cleaned'"
   ]
  },
  {
   "cell_type": "code",
   "execution_count": 4,
   "metadata": {
    "collapsed": true
   },
   "outputs": [],
   "source": [
    "df = pd.read_csv('data/winemag-data-130k-v2.csv')"
   ]
  },
  {
   "cell_type": "code",
   "execution_count": 35,
   "metadata": {},
   "outputs": [
    {
     "data": {
      "text/html": [
       "<div>\n",
       "<style>\n",
       "    .dataframe thead tr:only-child th {\n",
       "        text-align: right;\n",
       "    }\n",
       "\n",
       "    .dataframe thead th {\n",
       "        text-align: left;\n",
       "    }\n",
       "\n",
       "    .dataframe tbody tr th {\n",
       "        vertical-align: top;\n",
       "    }\n",
       "</style>\n",
       "<table border=\"1\" class=\"dataframe\">\n",
       "  <thead>\n",
       "    <tr style=\"text-align: right;\">\n",
       "      <th></th>\n",
       "      <th>Unnamed: 0</th>\n",
       "      <th>country</th>\n",
       "      <th>description</th>\n",
       "      <th>designation</th>\n",
       "      <th>points</th>\n",
       "      <th>price</th>\n",
       "      <th>province</th>\n",
       "      <th>region_1</th>\n",
       "      <th>region_2</th>\n",
       "      <th>taster_name</th>\n",
       "      <th>taster_twitter_handle</th>\n",
       "      <th>title</th>\n",
       "      <th>variety</th>\n",
       "      <th>winery</th>\n",
       "    </tr>\n",
       "  </thead>\n",
       "  <tbody>\n",
       "    <tr>\n",
       "      <th>78556</th>\n",
       "      <td>78556</td>\n",
       "      <td>US</td>\n",
       "      <td>Made from grapes grown on the Olivet Lane Vine...</td>\n",
       "      <td>Orange Label</td>\n",
       "      <td>87</td>\n",
       "      <td>59.0</td>\n",
       "      <td>California</td>\n",
       "      <td>Russian River Valley</td>\n",
       "      <td>Sonoma</td>\n",
       "      <td>Virginie Boone</td>\n",
       "      <td>@vboone</td>\n",
       "      <td>Roadhouse Winery 2014 Orange Label Pinot Noir ...</td>\n",
       "      <td>Pinot Noir</td>\n",
       "      <td>Roadhouse Winery</td>\n",
       "    </tr>\n",
       "    <tr>\n",
       "      <th>11735</th>\n",
       "      <td>11735</td>\n",
       "      <td>US</td>\n",
       "      <td>As in earlier vintages, this is three quarters...</td>\n",
       "      <td>NaN</td>\n",
       "      <td>89</td>\n",
       "      <td>24.0</td>\n",
       "      <td>Oregon</td>\n",
       "      <td>Walla Walla Valley (OR)</td>\n",
       "      <td>Oregon Other</td>\n",
       "      <td>Paul Gregutt</td>\n",
       "      <td>@paulgwine</td>\n",
       "      <td>Watermill 2007 Cabernet Sauvignon (Walla Walla...</td>\n",
       "      <td>Cabernet Sauvignon</td>\n",
       "      <td>Watermill</td>\n",
       "    </tr>\n",
       "    <tr>\n",
       "      <th>66147</th>\n",
       "      <td>66147</td>\n",
       "      <td>Italy</td>\n",
       "      <td>Aromas of acacia, nut and yellow stone fruit l...</td>\n",
       "      <td>Ronco delle Cime</td>\n",
       "      <td>88</td>\n",
       "      <td>35.0</td>\n",
       "      <td>Northeastern Italy</td>\n",
       "      <td>Collio</td>\n",
       "      <td>NaN</td>\n",
       "      <td>Kerin O’Keefe</td>\n",
       "      <td>@kerinokeefe</td>\n",
       "      <td>Venica &amp; Venica 2015 Ronco delle Cime Friulano...</td>\n",
       "      <td>Friulano</td>\n",
       "      <td>Venica &amp; Venica</td>\n",
       "    </tr>\n",
       "    <tr>\n",
       "      <th>30385</th>\n",
       "      <td>30385</td>\n",
       "      <td>Chile</td>\n",
       "      <td>It took this Concha y Toro specialty label a f...</td>\n",
       "      <td>Reserva Especial</td>\n",
       "      <td>91</td>\n",
       "      <td>22.0</td>\n",
       "      <td>Limarí Valley</td>\n",
       "      <td>NaN</td>\n",
       "      <td>NaN</td>\n",
       "      <td>Michael Schachner</td>\n",
       "      <td>@wineschach</td>\n",
       "      <td>Maycas del Limari 2010 Reserva Especial Sauvig...</td>\n",
       "      <td>Sauvignon Blanc</td>\n",
       "      <td>Maycas del Limari</td>\n",
       "    </tr>\n",
       "    <tr>\n",
       "      <th>36836</th>\n",
       "      <td>36836</td>\n",
       "      <td>US</td>\n",
       "      <td>A spicy oak aroma, fresh red cherry and cranbe...</td>\n",
       "      <td>Estate</td>\n",
       "      <td>89</td>\n",
       "      <td>22.0</td>\n",
       "      <td>California</td>\n",
       "      <td>Sierra Foothills</td>\n",
       "      <td>Sierra Foothills</td>\n",
       "      <td>Jim Gordon</td>\n",
       "      <td>@gordone_cellars</td>\n",
       "      <td>Naggiar 2012 Estate Sangiovese (Sierra Foothills)</td>\n",
       "      <td>Sangiovese</td>\n",
       "      <td>Naggiar</td>\n",
       "    </tr>\n",
       "  </tbody>\n",
       "</table>\n",
       "</div>"
      ],
      "text/plain": [
       "       Unnamed: 0 country                                        description  \\\n",
       "78556       78556      US  Made from grapes grown on the Olivet Lane Vine...   \n",
       "11735       11735      US  As in earlier vintages, this is three quarters...   \n",
       "66147       66147   Italy  Aromas of acacia, nut and yellow stone fruit l...   \n",
       "30385       30385   Chile  It took this Concha y Toro specialty label a f...   \n",
       "36836       36836      US  A spicy oak aroma, fresh red cherry and cranbe...   \n",
       "\n",
       "            designation  points  price            province  \\\n",
       "78556      Orange Label      87   59.0          California   \n",
       "11735               NaN      89   24.0              Oregon   \n",
       "66147  Ronco delle Cime      88   35.0  Northeastern Italy   \n",
       "30385  Reserva Especial      91   22.0       Limarí Valley   \n",
       "36836            Estate      89   22.0          California   \n",
       "\n",
       "                      region_1          region_2        taster_name  \\\n",
       "78556     Russian River Valley            Sonoma     Virginie Boone   \n",
       "11735  Walla Walla Valley (OR)      Oregon Other       Paul Gregutt   \n",
       "66147                   Collio               NaN      Kerin O’Keefe   \n",
       "30385                      NaN               NaN  Michael Schachner   \n",
       "36836         Sierra Foothills  Sierra Foothills         Jim Gordon   \n",
       "\n",
       "      taster_twitter_handle  \\\n",
       "78556               @vboone   \n",
       "11735           @paulgwine    \n",
       "66147          @kerinokeefe   \n",
       "30385           @wineschach   \n",
       "36836      @gordone_cellars   \n",
       "\n",
       "                                                   title             variety  \\\n",
       "78556  Roadhouse Winery 2014 Orange Label Pinot Noir ...          Pinot Noir   \n",
       "11735  Watermill 2007 Cabernet Sauvignon (Walla Walla...  Cabernet Sauvignon   \n",
       "66147  Venica & Venica 2015 Ronco delle Cime Friulano...            Friulano   \n",
       "30385  Maycas del Limari 2010 Reserva Especial Sauvig...     Sauvignon Blanc   \n",
       "36836  Naggiar 2012 Estate Sangiovese (Sierra Foothills)          Sangiovese   \n",
       "\n",
       "                  winery  \n",
       "78556   Roadhouse Winery  \n",
       "11735          Watermill  \n",
       "66147    Venica & Venica  \n",
       "30385  Maycas del Limari  \n",
       "36836            Naggiar  "
      ]
     },
     "execution_count": 35,
     "metadata": {},
     "output_type": "execute_result"
    }
   ],
   "source": [
    "df.sample(5)"
   ]
  },
  {
   "cell_type": "code",
   "execution_count": 59,
   "metadata": {},
   "outputs": [],
   "source": [
    "wine_blends =[\n",
    "    (set([\"merlot\", \"cabernet sauvignon\", \"cabernet franc\", \"petit verdot\", \"malbec\"])\n",
    "    , 'bordeaux-style red'),\n",
    "    (set([\"semillon\", \"sauvignon blanc\", \"muscadelle\"])\n",
    "    , 'bordeaux-style white'),\n",
    "    (set(['grenache', 'syrah',\"mourvedre\",\"bourboulenc\",\"cinsault\",\"clairette blanche\",\n",
    "        \"counoise\",\"grenache blanc\",\"muscardin\",\"picardan\",\"piquepoul blanc\",\"roussanne\",\n",
    "        \"terret noir\",\"vaccarese\"])\n",
    "    ,\"rhône-style red\"),\n",
    "    (set(['marsanne','roussanne','clairette','grenache blanc','bourboulenc','viognier'])\n",
    "    , \"rhône-style white\")\n",
    "   ]\n",
    "\n",
    "repl_dir = {'petite sirah': 'syrah', \n",
    "            'shiraz': 'syrah', \n",
    "            'champagne' :'sparkling',\n",
    "           }"
   ]
  },
  {
   "cell_type": "code",
   "execution_count": 61,
   "metadata": {
    "collapsed": true
   },
   "outputs": [],
   "source": [
    "def name_blends(hyph_name, wine_blends= wine_blends):\n",
    "    h_names = hyph_name.split('-')\n",
    "    if len(h_names) > 1:\n",
    "        for grapes, name in wine_blends:\n",
    "            if sum([j in grapes for j in h_names]) == len(h_names):\n",
    "                return name\n",
    "            else:\n",
    "                return hyph_name\n",
    "    else:\n",
    "        return hyph_name"
   ]
  },
  {
   "cell_type": "code",
   "execution_count": 103,
   "metadata": {},
   "outputs": [],
   "source": [
    "df['variety_cleaned'] = df['variety'].fillna('NA').str.lower()\\\n",
    "    .apply(lambda x: ' '.join([i.strip() for i in x.split() if i != 'blend']))\\\n",
    "    .replace(repl_dir)\\\n",
    "    .apply(name_blends)"
   ]
  },
  {
   "cell_type": "code",
   "execution_count": 75,
   "metadata": {},
   "outputs": [
    {
     "data": {
      "text/plain": [
       "708"
      ]
     },
     "execution_count": 75,
     "metadata": {},
     "output_type": "execute_result"
    }
   ],
   "source": [
    "df['variety'].unique().size"
   ]
  },
  {
   "cell_type": "code",
   "execution_count": 74,
   "metadata": {},
   "outputs": [
    {
     "data": {
      "text/plain": [
       "686"
      ]
     },
     "execution_count": 74,
     "metadata": {},
     "output_type": "execute_result"
    }
   ],
   "source": [
    "df['variety_cleaned'].unique().size"
   ]
  },
  {
   "cell_type": "code",
   "execution_count": 77,
   "metadata": {},
   "outputs": [
    {
     "data": {
      "image/png": "[encoded data removed]",
      "text/plain": [
       "<matplotlib.figure.Figure at 0x125d6ef98>"
      ]
     },
     "metadata": {},
     "output_type": "display_data"
    }
   ],
   "source": [
    "intr = df['variety_cleaned'].value_counts(1).head(50)\n",
    "plot = intr.plot(kind='bar', figsize=(16,8));\n",
    "plot.set_xticklabels(intr.index, {'rotation' : 90});"
   ]
  },
  {
   "cell_type": "code",
   "execution_count": 78,
   "metadata": {},
   "outputs": [
    {
     "data": {
      "text/plain": [
       "array([ 'This gentle, ripe wine is immediately attractive. Ripe pear and peach are cut with acidity. Drink now.',\n",
       "       'This blend of 60% Petite Sirah, 21% Syrah, 7% Grenache, 6% Petit Verdot, 5% Tannat and 1% Viognier is tightly wound but likely to improve with time. Opened now, it offers elderberry, black currant, pencil lead and loam on the nose, with lava rock, crème de cassis and kirsch flavors slowing emerging on the palate.',\n",
       "       'Like a liquid lemon meringue pie, this Chardonnay has bright fruit flavors, lemony acidity and a creamy finish. It smells like ripe apple and pineapple, and tastes crisp but but not lean. Altogether delicious and mouthwatering, and not nearly as sweet as the pie.',\n",
       "       'Enticing notions of passion fruit and peach grab the attention first, but there is almost more interest in the peppery, zesty mouth-feel. Fresh but rounded.',\n",
       "       \"Candied flavors of blackberries and cherries mark this dry, full-bodied Cab. It's an everyday sipper for easy fare, like burgers or pizza.\"], dtype=object)"
      ]
     },
     "execution_count": 78,
     "metadata": {},
     "output_type": "execute_result"
    }
   ],
   "source": [
    "df.description.sample(5).values"
   ]
  },
  {
   "cell_type": "code",
   "execution_count": 177,
   "metadata": {},
   "outputs": [],
   "source": [
    "tbob = df[df['variety'].fillna('X').apply(lambda x: len(x.split('-')) < 2)]['variety'].fillna('X')\\\n",
    "    .str.lower()\n",
    "\n",
    "#     .value_counts().head(30).cumsum()"
   ]
  },
  {
   "cell_type": "code",
   "execution_count": 179,
   "metadata": {},
   "outputs": [],
   "source": [
    "tbob_ltd = tbob[tbob.apply(lambda x: x.split()[-1] != 'blend')]"
   ]
  },
  {
   "cell_type": "code",
   "execution_count": 183,
   "metadata": {},
   "outputs": [
    {
     "data": {
      "text/plain": [
       "(117988,)"
      ]
     },
     "execution_count": 183,
     "metadata": {},
     "output_type": "execute_result"
    }
   ],
   "source": [
    "tbob.shape"
   ]
  },
  {
   "cell_type": "code",
   "execution_count": 181,
   "metadata": {},
   "outputs": [
    {
     "data": {
      "text/plain": [
       "(102135,)"
      ]
     },
     "execution_count": 181,
     "metadata": {},
     "output_type": "execute_result"
    }
   ],
   "source": [
    "tbob_ltd.shape"
   ]
  },
  {
   "cell_type": "code",
   "execution_count": 198,
   "metadata": {},
   "outputs": [
    {
     "data": {
      "text/plain": [
       "pinot noir            13272\n",
       "chardonnay            11753\n",
       "cabernet sauvignon     9472\n",
       "riesling               5189\n",
       "sauvignon blanc        4967\n",
       "syrah                  4142\n",
       "rosé                   3564\n",
       "merlot                 3102\n",
       "nebbiolo               2804\n",
       "zinfandel              2714\n",
       "sangiovese             2707\n",
       "malbec                 2652\n",
       "portuguese red         2466\n",
       "tempranillo            1810\n",
       "pinot gris             1455\n",
       "cabernet franc         1353\n",
       "Name: variety, dtype: int64"
      ]
     },
     "execution_count": 198,
     "metadata": {},
     "output_type": "execute_result"
    }
   ],
   "source": [
    "tbob_ltd.value_counts(0).head()"
   ]
  },
  {
   "cell_type": "code",
   "execution_count": 202,
   "metadata": {},
   "outputs": [
    {
     "name": "stdout",
     "output_type": "stream",
     "text": [
      "Aromas of menthol, blue flower and dark berry lift out of the glass. The tannic palate is still primary, offering tart sour cherry and star anise while a hint of dried sage closes the firm finish.\n",
      "Built like a brick house, with ripe, red aromas. This isn't light and elegant in the Italian style; it's mega ripe, with a ton of cherry, spice, kick and chocolate. Medicinal at times, peppery at others, and deep and wild throughout. Drink now through 2017.\n",
      "This opens with aromas of pressed rose petal, underbrush, truffle, white pepper and leather. The already approachable palate delivers juicy black cherry, cooking spice and licorice. Drink through 2022.\n",
      "Elegant and fresh, this linear wine brings together sensations of black raspberry, blue flower, licorice, white pepper and clove that are balanced with vibrant acidity and graceful tannins. Bright and delicious, it's made to be enjoyed young, so drink now.\n",
      "Ugo Lequio is a winemaker who presents some of the best expressions from the Gallina Cru. This shows bright berry and cola characteristics, with beautiful complexity and fresh acidity.\n",
      "This opens with aromas of red berry and aromatic herb. On the palate, black pepper and dried sage backup raw red cherry while bracing tannins provide the framework.\n",
      "This opens with French oak and toasted hazelnut aromas. The lean, assertive palate offers roasted coffee bean and licorice flavors alongside grainy tannins that leave an astringent finish.\n",
      "Dark berry, grilled herb and underbrush aromas float out of the glass along with a whiff of rose. The firm palate offers juicy dark cherry, raspberry, clove, anise and tobacco framed in velvety tannins.\n",
      "Compact and traditional with a bright, streamlined style, this pretty Barolo represents a blend of Nebbiolo grapes from two very important vineyard crus (the very structured Brunate and the elegant Le Coste vineyards).\n",
      "Red berry, baking spice and grilled herb aromas lead the nose. The taut palate doles out succulent black cherry, raspberry, licorice and a mint note alongside firm but polished tannins. Give this time to open up and unwind. Drink 2017–2024.\n",
      "Forest floor, exotic spice, new leather and a balsamic note of menthol lead the nose. The palate is still youthfully shy and extremely tight, but it eventually reveals suggestions of raw cherry, tart cranberry, espresso and dark spice. Close-grained tannins give the finish a firm squeeze.\n",
      "Lovely scents of rose, iris, wild berry, vineyard dust, baking spice and a hint of new leather all come together on this fragrant red. The structured, elegant palate delivers juicy black cherry, licorice, clove and mineral alongside supple tannins that give it a polished, silky texture. Drink 2018–2026.\n",
      "Berry, eucalyptus, Alpine herb and a balsamic note are some of the aromas you'll discover on this structured red. The ripe, fresh palate offers juicy Morello cherry, crushed raspberry, cooking spice and licorice alongside firm but refined tannins. Drink 2020–2032.\n",
      "This elegant vineyard-designate Barolo opens with deep and penetrating aromas of cured meat, candied fruit, hazelnut, licorice and pressed blue flower. It shows intensity and alcoholic power, with silky, but firm tannins on the finish.\n",
      "Forest floor, new leather, tobacco and crushed herb aromas emerge in the glass. It's youthfully austere and a bit lean, with sour cherry, pomegranate, sage and white pepper framed in vibrant acidity and assertive fine-grained tannins. Drink 2023–2035.\n",
      "This opens with aromas of pressed rose petal, underbrush, truffle, white pepper and leather. The already approachable palate delivers juicy black cherry, cooking spice and licorice. Drink through 2022.\n",
      "Aromas of fragrant purple flower, ripe berry and pipe tobacco lift out of the glass. On the generous palate, notes of vanilla, cinnamon and nutmeg accent mature cherry and crushed raspberry. Smooth, velvety tannins leave a polished mouthfeel. Drink through 2023.\n",
      "Aromas of dark berry, baking spice, Alpine herb, graphite, iris and a whiff of game take center stage. The warm, enveloping palate delivers fleshy black cherry, crushed raspberry, clove, white pepper and anisette alongside velvety tannins and nervous acidity. Drink 2016–2026.\n",
      "Fragrant berry, blue flower, rose petal, baking spice and a balsamic note lead the nose on this sleek, structured wine. The palate doles out crunchy red-cherry, juicy strawberry, clove, cinnamon and savory herb shadings alongside firm yet polished tannins and surprisingly fresh acidity for a hot vintage. It's loaded with finesse and already accessible. Drink through 2019.\n",
      "This is initially quite closed but it eventually opens up in the glass to reveal wild berry, cooking spice and a whiff of cellar floor. The palate offers unripe sour cherry, white pepper, cinnamon and grilled herb alongside youthfully assertive tannins. Drink 2017–2022.\n",
      "Aromas of grilled herb, roasted hazelnut and cured meat follow through to the palate along with leather and a gamy note. Showing the heat of the vintage, this is already evolved and the fruit richness has started to dry up.\n",
      "Fontanafredda is a landmark estate for the entire winemaking area and this vintage of its lovely base Barolo is particularly delicious. The aromas are broad and intense and combine hickory notes with coffee, black fruit and spice. It's a modern, succulent wine executed in a bold and food- friendly style. Drink after 2015.\n",
      "Oak, coconut, espresso and menthol aromas lift out of the glass. The taut somewhat lean palate shows raw sour cherry, tart cranberry, espresso and oak-driven spice but not much fruit richness. Tight raspy tannins dry out the finish. Let the tannins soften for a few years then drink to capture the remaining fruit.\n",
      "This is aged for two years in French oak to shape a complex and layered bouquet that bears notes of red currant, smoked meat and exotic spice. The palate is firm, finely textured and long lasting.\n",
      "Leather, ripe berry, clove, mature berry, baking spice and a balsamic whiff of menthol lift out of the glass. The firm, succulent palate offers black cherry, clove and star anise. Youthfully assertive but refined tannins and fresh acidity provide structure and balance. Drink through 2025.\n",
      "Rose, iris, ripe red berry and aromatic herbs are some of the aromas you'll discover in this wine. It's both focused and juicy, delivering succulent Marasca cherry, crushed raspberry, mint and licorice alongside a backbone of fined-grained tannins that leave a firm finish. Bright acidity provides balance. Drink 2023–2043.\n",
      "Aromas of mature berry, menthol, licorice, cooking spice and a balsamic note lead the nose. The firm palate is still tightly wound but already offers wild cherry, white pepper, grilled herb, tobacco and anise. It's balanced and fresh, with ripe but youthfully bracing tannins. Drink after 2019.\n",
      "Hard-topped aromas of raspberry and cherry along with dry oak lead to a mild palate with hard tannins. Baked, plummy flavors are short, while the finish on this Baja Nebbiolo is a bit raisiny, with lasting tannic grip.\n",
      "Bric Balin offers the same creamy succulence of Moccagatta's Cole Barbaresco, only here, you get added aromas of smoked bacon and cured meat. At the base is a solid foundation of lively fruit and chocolate-like nuances, and the wine ends with bold flavors and tight tannins. A Marc de Grazia selection; various American importers.\n",
      "This wine would make a great impression on an elegantly dressed table with a fine meat-based menu. The wine's natural structure and freshness make it very food friendly and its elegant aromas of cassis, small berry, cola and white truffle will evolve beautifully throughout your meal.\n",
      "Here's a genuine and fresh expression of Barbaresco with loads of fruit-driven aromas including cherry, cassis, raspberry and fresh plum. There's great acidity and brightness too and the wine finishes with tart berry flavor on the close.\n",
      "This opens with aromas of ripe berry, pipe tobacco, leather and espresso. The palate offers mature black cherry, coffee, vanilla and mocha alongside firm, drying tannins. It finishes on a licorice note.\n",
      "The nose isn't very expressive but eventually reveals sawdust, toasted oak and roasted coffee bean. The palate delivers raw red cherry, anise and espresso alongside bracing tannins. Give this time to fully develop. Drink after 2018.\n",
      "This retro-styled wine displays its new-wood influence. It opens with aromas of coconut, oak extract, coffee and espresso that continue onto the palate along with a hint of mint and spice. But there's not enough fruit richness to support the evident oak and drying wood tannins.\n",
      "Aromas of mature berry, espresso, exotic spice and a whiff of menthol emerge on this full-bodied red. The palate shows dried black cherry, coconut, licorice and roasted coffee bean alongside fine-grained tannins. This isn't a classic Nebbiolo but it's polished, balanced and will appeal to those who enjoy oak-driven sensations.\n",
      "Aromas of mature berry, menthol, coffee bean, toast and dark cooking spice emerge on this bracing wine. The firmly structured palate delivers dried black cherry, espresso, French oak, licorice, chopped herb and tobacco set against bracing, close-grained tannins and the warmth of alcohol. The tannins will need years to unwind.\n",
      "The Pio Cesare is dominated by the smell of diesel. Beyond that are a few shards of fruit, but overall this is a throwback for those who like the tarriness that characterized old-fashioned Barolos.\n",
      "Toast, baking spice, fruitcake and anise are some of the aromas that emerge on this structured red. On the forward palate, notes of black pepper, licorice and a hint of tobacco accent a core of dried black. Firm, velvety tannins provide support. Drink 2018–2026.\n",
      "This opens with aromas of toast, oak and roasted coffee bean that follow through to the tense palate of raw berry and powdered sage. Astringent tannins provide the framework.\n",
      "Sweet oak, vanilla, plum, violet and mocha aromas lead the nose on this structured wine. The oak influence carries over to the palate together with ripe black cherry, leather and baking spice. The tightly compacted tannins need time to unwind. Drink 2020–2035.\n",
      "This elegant Barbaresco has an intensely floral bouquet of rose, violet and iris, plus whiffs of sage and balsam. The palate offers juicy, wild cherry flavors punctuated with truffle, and balsamic notes of Alpine herbs. It's impeccably balanced, with ample length.\n",
      "This Cannubi Barolo offers dark concentration and a bold personality with elements of sweet spice, black fruit, toast, chocolate fudge, licorice and anise. It's an elegant and linear wine with a direct and immediate delivery followed by jackhammer tannins and cooling freshness. Drink after 2015 with game meat and chestnut dressing.\n",
      "Tulin offers characteristically earthy aromas of porcino mushroom with pressed violets and animal or leather like notes. That said, the aromas are warm and inviting and offer interesting depth and complexity. In the mouth, the wine's precise and sharp nature is emphasized by its bright acidity and drying tannins.\n",
      "Charred earth, toast and menthol aromas come together in this evolved wine. The palate is dried out, showing licorice and powdered sage notes alongside worn tannins.\n",
      "This warm expression of Nebbiolo opens with aromas of stewed prunes, resin and raisin. The palate offers plums steeped in spirits and espresso alongside green wood tannins that generate an abrupt finish.\n",
      "Leather, truffle and ripe black plum aromas lead the nose. The fleshy palate offers juicy black cherry, crushed blackberry, licorice and clove while robust, polished tannins give it a smooth, enveloping texture. It's already at its peak drinking window so enjoy soon.\n",
      "Enticing aromas of pressed rose, iris and perfumed berry lead the nose, with a whiff of cake spice on this straightforward red. The elegant, enjoyable palate offers sour red cherry, raspberry, white pepper and a hint star anise alongside firm, refined tannins. A tobacco note signals the close.\n",
      "Fruity and fragrant, this opens with aromas of red berries, violets and baking spices. Notes of white pepper and clove accent the crushed strawberry and wild cherry flavors that are supported by silky tannins.\n",
      "Balsamic notes, rose water, stewed prune, porcini and sweet oak-driven spices lead the nose. The accessible palate has immediate appeal, offering black cherry extract, cranberry, cinnamon, vanilla and a hint of espresso while close-grained tannins give the finish grip.\n",
      "This displays primary aromas of black fruit along with whiffs of roasted herbs and espresso. The palate offers black plum, prune and Morello cherry accented by black pepper, coffee, toast and vanilla. Youthfully aggressive and tightly packed, this needs time to fully develop. Drink after 2022.\n"
     ]
    }
   ],
   "source": [
    "for i in df[df['variety'] == 'Nebbiolo']['description'].sample(50).values:\n",
    "    print(i)"
   ]
  },
  {
   "cell_type": "code",
   "execution_count": 135,
   "metadata": {},
   "outputs": [
    {
     "name": "stdout",
     "output_type": "stream",
     "text": [
      "Bordeaux-style Red Blend\n",
      "Rhône-style Red Blend\n",
      "G-S-M\n",
      "Cabernet Sauvignon-Syrah\n",
      "Syrah-Grenache\n",
      "Rhône-style White Blend\n",
      "Cabernet Sauvignon-Sangiovese\n",
      "Syrah-Viognier\n",
      "Marsanne-Roussanne\n",
      "Marsanne-Viognier\n",
      "Syrah-Cabernet Sauvignon\n",
      "Semillon-Sauvignon Blanc\n",
      "Grenache-Syrah\n",
      "Sauvignon Blanc-Semillon\n",
      "Bordeaux-style White Blend\n",
      "Merlot-Cabernet Franc\n",
      "Syrah-Petite Sirah\n",
      "Gewürztraminer-Riesling\n",
      "Roussanne-Viognier\n",
      "Cabernet Franc-Merlot\n",
      "Grenache-Carignan\n",
      "Chardonnay-Semillon\n",
      "Syrah-Mourvèdre\n",
      "Merlot-Malbec\n",
      "Mourvèdre-Syrah\n",
      "Malbec-Syrah\n",
      "Cabernet Sauvignon-Merlot\n",
      "Merlot-Cabernet Sauvignon\n",
      "Viognier-Roussanne\n",
      "Cabernet Sauvignon-Cabernet Franc\n",
      "Barbera-Nebbiolo\n",
      "Chenin Blanc-Viognier\n",
      "Grenache-Mourvèdre\n",
      "Pinot-Chardonnay\n",
      "Syrah-Tempranillo\n",
      "Cabernet Sauvignon-Barbera\n",
      "Merlot-Cabernet\n",
      "Sangiovese-Cabernet Sauvignon\n",
      "Viognier-Gewürztraminer\n",
      "Müller-Thurgau\n",
      "Chardonnay-Viognier\n",
      "Semillon-Chardonnay\n",
      "Tempranillo-Garnacha\n",
      "Malbec-Merlot\n",
      "Viognier-Chardonnay\n",
      "Pinot Blanc-Pinot Noir\n",
      "Sauvignon Blanc-Chenin Blanc\n",
      "Pinot Gris-Gewürztraminer\n",
      "Roussanne-Marsanne\n",
      "Sangiovese-Syrah\n",
      "Malbec-Tannat\n",
      "Tempranillo-Cabernet Sauvignon\n",
      "Cabernet Sauvignon-Carmenère\n",
      "Cabernet-Syrah\n",
      "Syrah-Cabernet Franc\n",
      "Syrah-Merlot\n",
      "Cabernet Sauvignon-Shiraz\n",
      "Pinot Noir-Syrah\n",
      "Syrah-Petit Verdot\n",
      "Malbec-Cabernet Sauvignon\n",
      "Riesling-Chardonnay\n",
      "Syrah-Grenache-Viognier\n",
      "Chardonnay-Riesling\n",
      "Syrah-Cabernet\n",
      "Cabernet Sauvignon-Malbec\n",
      "Pinot Blanc-Viognier\n",
      "Cabernet Sauvignon-Tempranillo\n",
      "Tempranillo-Syrah\n",
      "Cabernet-Shiraz\n",
      "Roussanne-Grenache Blanc\n",
      "Viognier-Marsanne\n",
      "Pinot Grigio-Sauvignon Blanc\n",
      "Viognier-Grenache Blanc\n",
      "Merlot-Petite Verdot\n",
      "Cabernet Franc-Lemberger\n",
      "Pinot Blanc-Chardonnay\n",
      "Chardonnay-Albariño\n",
      "Cabernet Franc-Cabernet Sauvignon\n",
      "Viognier-Valdiguié\n",
      "Carignan-Grenache\n",
      "Chardonnay-Pinot Blanc\n",
      "Tannat-Syrah\n"
     ]
    }
   ],
   "source": [
    "for i in df[df['country'] == 'US']['variety'].unique():\n",
    "    if len(i.split('-')) > 1:\n",
    "        print(i)"
   ]
  },
  {
   "cell_type": "code",
   "execution_count": 132,
   "metadata": {},
   "outputs": [
    {
     "data": {
      "text/plain": [
       "pinot noir              13272\n",
       "chardonnay              11753\n",
       "cabernet sauvignon       9472\n",
       "red                      8946\n",
       "bordeaux-style red       7344\n",
       "syrah                    5748\n",
       "riesling                 5189\n",
       "sauvignon blanc          4967\n",
       "rosé                     3564\n",
       "sparkling                3549\n",
       "merlot                   3102\n",
       "nebbiolo                 2804\n",
       "zinfandel                2714\n",
       "sangiovese               2707\n",
       "malbec                   2655\n",
       "portuguese red           2466\n",
       "tempranillo              2398\n",
       "white                    2360\n",
       "rhône-style red          1471\n",
       "pinot gris               1455\n",
       "cabernet franc           1353\n",
       "grüner veltliner         1345\n",
       "portuguese white         1159\n",
       "bordeaux-style white     1066\n",
       "pinot grigio             1052\n",
       "gamay                    1025\n",
       "gewürztraminer           1012\n",
       "viognier                  996\n",
       "Name: variety_cleaned, dtype: int64"
      ]
     },
     "execution_count": 132,
     "metadata": {},
     "output_type": "execute_result"
    }
   ],
   "source": [
    "df[y_col].value_counts().head(28)"
   ]
  },
  {
   "cell_type": "code",
   "execution_count": 84,
   "metadata": {},
   "outputs": [
    {
     "data": {
      "text/plain": [
       "Index(['pinot noir', 'chardonnay', 'cabernet sauvignon', 'red',\n",
       "       'bordeaux-style red', 'syrah', 'riesling', 'sauvignon blanc', 'rosé',\n",
       "       'sparkling', 'merlot', 'nebbiolo', 'zinfandel', 'sangiovese', 'malbec',\n",
       "       'portuguese red', 'tempranillo', 'white', 'rhône-style red',\n",
       "       'pinot gris', 'cabernet franc', 'grüner veltliner', 'portuguese white',\n",
       "       'bordeaux-style white', 'pinot grigio', 'gamay', 'gewürztraminer',\n",
       "       'viognier'],\n",
       "      dtype='object')"
      ]
     },
     "execution_count": 84,
     "metadata": {},
     "output_type": "execute_result"
    }
   ],
   "source": [
    "df['variety_cleaned'].value_counts().head(28).index"
   ]
  },
  {
   "cell_type": "code",
   "execution_count": 97,
   "metadata": {},
   "outputs": [],
   "source": [
    "# df_nona = df[df[y_col].fillna('N') != 'N']\n",
    "classif_varieties = set(df['variety_cleaned'].value_counts().head(28).index)\n",
    "df_nona = df[df[y_col].isin(classif_varieties)]"
   ]
  },
  {
   "cell_type": "code",
   "execution_count": 98,
   "metadata": {},
   "outputs": [
    {
     "data": {
      "text/plain": [
       "(106944, 15)"
      ]
     },
     "execution_count": 98,
     "metadata": {},
     "output_type": "execute_result"
    }
   ],
   "source": [
    "df_nona.shape"
   ]
  },
  {
   "cell_type": "code",
   "execution_count": 105,
   "metadata": {
    "collapsed": true
   },
   "outputs": [],
   "source": [
    "label_map = {val: idx for idx, val in enumerate(df_nona[y_col].unique())}"
   ]
  },
  {
   "cell_type": "code",
   "execution_count": 106,
   "metadata": {
    "collapsed": true
   },
   "outputs": [],
   "source": [
    "y = df_nona[y_col].replace(label_map).values"
   ]
  },
  {
   "cell_type": "code",
   "execution_count": 107,
   "metadata": {
    "collapsed": true
   },
   "outputs": [],
   "source": [
    "reviews = df_nona.description"
   ]
  },
  {
   "cell_type": "code",
   "execution_count": 108,
   "metadata": {
    "collapsed": true
   },
   "outputs": [],
   "source": [
    "swords = set(stopwords.words('english'))"
   ]
  },
  {
   "cell_type": "code",
   "execution_count": 109,
   "metadata": {
    "collapsed": true
   },
   "outputs": [],
   "source": [
    "ps = PorterStemmer()"
   ]
  },
  {
   "cell_type": "code",
   "execution_count": 110,
   "metadata": {
    "collapsed": true
   },
   "outputs": [],
   "source": [
    "word_vecs = reviews\\\n",
    "    .apply(lambda x: [re.sub(\"[\\W]\", '', i).lower().strip() for i in x.split()])\\\n",
    "    .apply(lambda x: [ps.stem(i) for i in x if i not in swords and len(i) > 3])"
   ]
  },
  {
   "cell_type": "code",
   "execution_count": 111,
   "metadata": {},
   "outputs": [
    {
     "data": {
      "text/plain": [
       "84717     [earthi, aroma, underbrush, use, leather, viol...\n",
       "99096     [zinfandel, unlik, regular, bottl, special, se...\n",
       "95311     [outstand, morellino, scansano, love, fragranc...\n",
       "117211    [chardonnay, doesnt, much, riper, richer, dazz...\n",
       "72062     [chocapalha, everyday, soft, fruiti, alreadi, ...\n",
       "78097     [success, second, label, goldschmidt, 2009, go...\n",
       "124709    [young, massiv, built, wine, need, time, devel...\n",
       "69063     [wine, goe, tropic, fruit, approach, sauvignon...\n",
       "71147     [champagnespeak, extra, actual, mean, somewhat...\n",
       "76994     [solid, firm, wine, great, rapport, black, ber...\n",
       "Name: description, dtype: object"
      ]
     },
     "execution_count": 111,
     "metadata": {},
     "output_type": "execute_result"
    }
   ],
   "source": [
    "word_vecs.sample(10)"
   ]
  },
  {
   "cell_type": "code",
   "execution_count": 112,
   "metadata": {
    "collapsed": true
   },
   "outputs": [],
   "source": [
    "back2sent = word_vecs.apply(lambda x: ' '.join(x))"
   ]
  },
  {
   "cell_type": "code",
   "execution_count": 113,
   "metadata": {
    "collapsed": true
   },
   "outputs": [],
   "source": [
    "transform = TfidfVectorizer(lowercase=False, min_df=.05)"
   ]
  },
  {
   "cell_type": "code",
   "execution_count": 114,
   "metadata": {
    "collapsed": true
   },
   "outputs": [],
   "source": [
    "tf_idf_matrix = transform.fit_transform(back2sent.values)"
   ]
  },
  {
   "cell_type": "code",
   "execution_count": 115,
   "metadata": {
    "collapsed": true
   },
   "outputs": [],
   "source": [
    "## build train_test_split\n",
    "test_train = np.random.random(word_vecs.shape[0]) < .8\n",
    "Xtr = tf_idf_matrix[test_train]\n",
    "Xte = tf_idf_matrix[~test_train]\n",
    "ytr = y[test_train]\n",
    "yte = y[~test_train]"
   ]
  },
  {
   "cell_type": "code",
   "execution_count": 116,
   "metadata": {
    "collapsed": true
   },
   "outputs": [],
   "source": [
    "from sklearn.naive_bayes import GaussianNB"
   ]
  },
  {
   "cell_type": "code",
   "execution_count": 117,
   "metadata": {},
   "outputs": [
    {
     "name": "stdout",
     "output_type": "stream",
     "text": [
      "0.165554570482\n",
      "0\n"
     ]
    }
   ],
   "source": [
    "start = datetime.now()\n",
    "modelgb = GaussianNB()\n",
    "modelgb.fit(Xtr.toarray(), ytr)\n",
    "print(modelgb.score(Xte.toarray(), yte))\n",
    "print((datetime.now() - start).seconds)"
   ]
  },
  {
   "cell_type": "code",
   "execution_count": 118,
   "metadata": {
    "collapsed": true
   },
   "outputs": [],
   "source": [
    "from sklearn.ensemble import RandomForestClassifier"
   ]
  },
  {
   "cell_type": "code",
   "execution_count": 133,
   "metadata": {},
   "outputs": [
    {
     "name": "stdout",
     "output_type": "stream",
     "text": [
      "0.52442723158\n",
      "165\n"
     ]
    }
   ],
   "source": [
    "start = datetime.now()\n",
    "modelrf = RandomForestClassifier(n_estimators=1000, n_jobs=-1)\n",
    "modelrf.fit(Xtr.toarray(), ytr)\n",
    "print(modelrf.score(Xte.toarray(), yte))\n",
    "print((datetime.now() - start).seconds)"
   ]
  },
  {
   "cell_type": "code",
   "execution_count": 120,
   "metadata": {
    "collapsed": true
   },
   "outputs": [],
   "source": [
    "## run this line if needed xgboost is not a part of Sklearn\n",
    "## we could also use GradientBoostingClassifier, but since it does not support \n",
    "## parallel processing, and XGboost typically gives near the same performance\n",
    "## we will use XGboost\n",
    "#!pip install xgboost"
   ]
  },
  {
   "cell_type": "code",
   "execution_count": 121,
   "metadata": {
    "collapsed": true
   },
   "outputs": [],
   "source": [
    "import xgboost as xgb"
   ]
  },
  {
   "cell_type": "code",
   "execution_count": 122,
   "metadata": {},
   "outputs": [
    {
     "name": "stdout",
     "output_type": "stream",
     "text": [
      "0.437590406421\n",
      "343\n"
     ]
    }
   ],
   "source": [
    "start = datetime.now()\n",
    "modelxg3 = xgb.XGBClassifier(max_depth=3, learning_rate=.05, n_estimators=250, n_jobs=-1)\n",
    "modelxg3.fit(Xtr.toarray(), ytr)\n",
    "print(modelxg3.score(Xte.toarray(), yte))\n",
    "print((datetime.now() - start).seconds)"
   ]
  },
  {
   "cell_type": "code",
   "execution_count": 123,
   "metadata": {},
   "outputs": [
    {
     "name": "stdout",
     "output_type": "stream",
     "text": [
      "0.461201063879\n",
      "572\n"
     ]
    }
   ],
   "source": [
    "start = datetime.now()\n",
    "modelxg5 = xgb.XGBClassifier(max_depth=5, learning_rate=.05, n_estimators=250, n_jobs=-1)\n",
    "modelxg5.fit(Xtr.toarray(), ytr)\n",
    "print(modelxg5.score(Xte.toarray(), yte))\n",
    "print((datetime.now() - start).seconds)"
   ]
  },
  {
   "cell_type": "code",
   "execution_count": 124,
   "metadata": {},
   "outputs": [
    {
     "name": "stdout",
     "output_type": "stream",
     "text": [
      "0.477532546311\n",
      "1901\n"
     ]
    }
   ],
   "source": [
    "start = datetime.now()\n",
    "modelxg_lr1 = xgb.XGBClassifier(max_depth=5, learning_rate=.1, n_estimators=250, n_jobs=-1)\n",
    "modelxg_lr1.fit(Xtr.toarray(), ytr)\n",
    "print(modelxg_lr1.score(Xte.toarray(), yte))\n",
    "print((datetime.now() - start).seconds)"
   ]
  },
  {
   "cell_type": "code",
   "execution_count": 125,
   "metadata": {},
   "outputs": [
    {
     "name": "stdout",
     "output_type": "stream",
     "text": [
      "0.477532546311\n",
      "3174\n"
     ]
    }
   ],
   "source": [
    "start = datetime.now()\n",
    "modelxg_t1000 = xgb.XGBClassifier(max_depth=5, learning_rate=.1, n_estimators=250, n_jobs=-1)\n",
    "modelxg_t1000.fit(Xtr.toarray(), ytr)\n",
    "print(modelxg_t1000.score(Xte.toarray(), yte))\n",
    "print((datetime.now() - start).seconds)"
   ]
  },
  {
   "cell_type": "code",
   "execution_count": null,
   "metadata": {
    "collapsed": true
   },
   "outputs": [],
   "source": [
    "# dense_matrix = pd.DataFrame(tf_idf_matrix.todense())\n",
    "\n",
    "# ## these may be in order of count, not the orde of the columns so this is were i messed up\n",
    "# dense_matrix.columns = [v for v in transform.vocabulary_.keys()]\n",
    "\n",
    "# dense_matrix.columns\n",
    "\n",
    "# dense_matrix.sample(10)\n",
    "\n",
    "# country_dm = dense_matrix.copy()\n",
    "\n",
    "# country_dm['y'] = df['country']"
   ]
  },
  {
   "cell_type": "code",
   "execution_count": null,
   "metadata": {
    "collapsed": true
   },
   "outputs": [],
   "source": [
    "start = datetime.now()\n",
    "#process things\n",
    "print((datetime.now() - start).seconds)"
   ]
  },
  {
   "cell_type": "code",
   "execution_count": null,
   "metadata": {
    "collapsed": true
   },
   "outputs": [],
   "source": [
    "xgb.XGBClassifier"
   ]
  },
  {
   "cell_type": "code",
   "execution_count": null,
   "metadata": {
    "collapsed": true
   },
   "outputs": [],
   "source": [
    "%%timeit -n 1"
   ]
  }
 ],
 "metadata": {
  "kernelspec": {
   "display_name": "Python 3",
   "language": "python",
   "name": "python3"
  },
  "language_info": {
   "codemirror_mode": {
    "name": "ipython",
    "version": 3
   },
   "file_extension": ".py",
   "mimetype": "text/x-python",
   "name": "python",
   "nbconvert_exporter": "python",
   "pygments_lexer": "ipython3",
   "version": "3.6.1"
  }
 },
 "nbformat": 4,
 "nbformat_minor": 2
}
